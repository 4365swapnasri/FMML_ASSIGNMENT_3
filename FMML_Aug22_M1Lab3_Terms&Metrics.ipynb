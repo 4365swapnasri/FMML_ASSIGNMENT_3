{
  "nbformat": 4,
  "nbformat_minor": 0,
  "metadata": {
    "colab": {
      "provenance": [],
      "collapsed_sections": [],
      "include_colab_link": true
    },
    "kernelspec": {
      "name": "python3",
      "display_name": "Python 3"
    },
    "language_info": {
      "name": "python"
    }
  },
  "cells": [
    {
      "cell_type": "markdown",
      "metadata": {
        "id": "view-in-github",
        "colab_type": "text"
      },
      "source": [
        "<a href=\"https://colab.research.google.com/github/4365swapnasri/FMML_ASSIGNMENT_3/blob/main/FMML_Aug22_M1Lab3_Terms%26Metrics.ipynb\" target=\"_parent\"><img src=\"https://colab.research.google.com/assets/colab-badge.svg\" alt=\"Open In Colab\"/></a>"
      ]
    },
    {
      "cell_type": "markdown",
      "metadata": {
        "id": "3Eu9VZbF01eq"
      },
      "source": [
        "# Machine learning terms and metrics\n",
        "\n",
        "FMML Module 1, Lab 3<br>\n",
        "Module Coordinator: Amit Pandey amit.pandey@research.iiit.ac.in <br>\n",
        "<br>\n",
        "\n",
        " In this lab, we will show a part of the ML pipeline by extracting features, training and testing. We will also explore how data augmentation affects accuracy."
      ]
    },
    {
      "cell_type": "code",
      "metadata": {
        "id": "8qBvyEem0vLi"
      },
      "source": [
        "import matplotlib.pyplot as plt\n",
        "import numpy as np\n",
        "from sklearn import datasets\n",
        "# set randomseed\n",
        "rng = np.random.default_rng(seed=42)"
      ],
      "execution_count": 1,
      "outputs": []
    },
    {
      "cell_type": "markdown",
      "metadata": {
        "id": "u3t59g5s1HfC"
      },
      "source": [
        "In this lab, we will use the California Housing dataset. There are 20640 samples, each with 8 attributes like income of the block, age of the houses per district etc. The task is to predict the cost of the houses per district. \n",
        "\n",
        "Let us download and examine the dataset. "
      ]
    },
    {
      "cell_type": "code",
      "metadata": {
        "id": "8LpqjN991GGJ",
        "colab": {
          "base_uri": "https://localhost:8080/"
        },
        "outputId": "915a54f3-91c6-482b-cd2d-631a282cd116"
      },
      "source": [
        " dataset =  datasets.fetch_california_housing()\n",
        " # print(dataset.DESCR)  # uncomment this if you want to know more about this dataset\n",
        " # print(dataset.keys())  # if you want to know what else is there in this dataset\n",
        " dataset.target = dataset.target.astype(np.int) # so that we can classify\n",
        " print(dataset.data.shape)\n",
        " print(dataset.target.shape)"
      ],
      "execution_count": 2,
      "outputs": [
        {
          "output_type": "stream",
          "name": "stdout",
          "text": [
            "(20640, 8)\n",
            "(20640,)\n"
          ]
        },
        {
          "output_type": "stream",
          "name": "stderr",
          "text": [
            "/usr/local/lib/python3.7/dist-packages/ipykernel_launcher.py:4: DeprecationWarning: `np.int` is a deprecated alias for the builtin `int`. To silence this warning, use `int` by itself. Doing this will not modify any behavior and is safe. When replacing `np.int`, you may wish to use e.g. `np.int64` or `np.int32` to specify the precision. If you wish to review your current use, check the release note link for additional information.\n",
            "Deprecated in NumPy 1.20; for more details and guidance: https://numpy.org/devdocs/release/1.20.0-notes.html#deprecations\n",
            "  after removing the cwd from sys.path.\n"
          ]
        }
      ]
    },
    {
      "cell_type": "markdown",
      "metadata": {
        "id": "iNx4174W5xRg"
      },
      "source": [
        "Here is a function for calculating the 1-nearest neighbours"
      ]
    },
    {
      "cell_type": "code",
      "source": [
        "type(dataset), dataset.DESCR"
      ],
      "metadata": {
        "colab": {
          "base_uri": "https://localhost:8080/"
        },
        "id": "ut5lj4HsaTfp",
        "outputId": "1b646d1b-7a38-46e6-f3e2-bb7f73d0c1d2"
      },
      "execution_count": 3,
      "outputs": [
        {
          "output_type": "execute_result",
          "data": {
            "text/plain": [
              "(sklearn.utils.Bunch,\n",
              " '.. _california_housing_dataset:\\n\\nCalifornia Housing dataset\\n--------------------------\\n\\n**Data Set Characteristics:**\\n\\n    :Number of Instances: 20640\\n\\n    :Number of Attributes: 8 numeric, predictive attributes and the target\\n\\n    :Attribute Information:\\n        - MedInc        median income in block group\\n        - HouseAge      median house age in block group\\n        - AveRooms      average number of rooms per household\\n        - AveBedrms     average number of bedrooms per household\\n        - Population    block group population\\n        - AveOccup      average number of household members\\n        - Latitude      block group latitude\\n        - Longitude     block group longitude\\n\\n    :Missing Attribute Values: None\\n\\nThis dataset was obtained from the StatLib repository.\\nhttps://www.dcc.fc.up.pt/~ltorgo/Regression/cal_housing.html\\n\\nThe target variable is the median house value for California districts,\\nexpressed in hundreds of thousands of dollars ($100,000).\\n\\nThis dataset was derived from the 1990 U.S. census, using one row per census\\nblock group. A block group is the smallest geographical unit for which the U.S.\\nCensus Bureau publishes sample data (a block group typically has a population\\nof 600 to 3,000 people).\\n\\nAn household is a group of people residing within a home. Since the average\\nnumber of rooms and bedrooms in this dataset are provided per household, these\\ncolumns may take surpinsingly large values for block groups with few households\\nand many empty houses, such as vacation resorts.\\n\\nIt can be downloaded/loaded using the\\n:func:`sklearn.datasets.fetch_california_housing` function.\\n\\n.. topic:: References\\n\\n    - Pace, R. Kelley and Ronald Barry, Sparse Spatial Autoregressions,\\n      Statistics and Probability Letters, 33 (1997) 291-297\\n')"
            ]
          },
          "metadata": {},
          "execution_count": 3
        }
      ]
    },
    {
      "cell_type": "code",
      "metadata": {
        "id": "07zpydQj1hIQ"
      },
      "source": [
        "def NN1(traindata, trainlabel, query):\n",
        "  diff  = traindata - query  # find the difference between features. Numpy automatically takes care of the size here \n",
        "  sq = diff*diff # square the differences\n",
        "  dist = sq.sum(1) # add up the squares\n",
        "  label = trainlabel[np.argmin(dist)] # our predicted label is the label of the training data which has the least distance from the query\n",
        "  return label\n",
        "\n",
        "def NN(traindata, trainlabel, testdata):\n",
        "  # we will run nearest neighbour for each sample in the test data \n",
        "  # and collect the predicted classes in an array using list comprehension\n",
        "  predlabel = np.array([NN1(traindata, trainlabel, i) for i in testdata])\n",
        "  return predlabel"
      ],
      "execution_count": 64,
      "outputs": []
    },
    {
      "cell_type": "markdown",
      "metadata": {
        "id": "03JktkfIGaje"
      },
      "source": [
        "We will also define a 'random classifier', which randomly allots labels to each sample"
      ]
    },
    {
      "cell_type": "code",
      "metadata": {
        "id": "fogWAtjyGhAH"
      },
      "source": [
        "def RandomClassifier(traindata, trainlabel, testdata):\n",
        "  # in reality, we don't need these arguments\n",
        "\n",
        "  classes = np.unique(trainlabel)\n",
        "  rints = rng.integers(low=0, high=len(classes), size=len(testdata))\n",
        "  predlabel = classes[rints]\n",
        "  return predlabel"
      ],
      "execution_count": 65,
      "outputs": []
    },
    {
      "cell_type": "markdown",
      "metadata": {
        "id": "1Hjf1KHs7fU5"
      },
      "source": [
        "Let us define a metric 'Accuracy' to see how good our learning algorithm is. Accuracy is the ratio of the number of correctly classified samples to the total number of samples. The higher the accuracy, the better the algorithm. "
      ]
    },
    {
      "cell_type": "code",
      "metadata": {
        "id": "ouuCqWU07bz-"
      },
      "source": [
        "def Accuracy(gtlabel, predlabel):\n",
        "  assert len(gtlabel)==len(predlabel), \"Length of the groundtruth labels and predicted labels should be the same\"\n",
        "  correct = (gtlabel==predlabel).sum() # count the number of times the groundtruth label is equal to the predicted label.\n",
        "  return correct/len(gtlabel)"
      ],
      "execution_count": 66,
      "outputs": []
    },
    {
      "cell_type": "markdown",
      "metadata": {
        "id": "4vJFwBFa9Klw"
      },
      "source": [
        "Let us make a function to split the dataset with the desired probability."
      ]
    },
    {
      "cell_type": "code",
      "metadata": {
        "id": "Ko0VzpSM2Tdi"
      },
      "source": [
        "def split(data, label, percent):\n",
        "  # generate a random number for each sample\n",
        "  rnd = rng.random(len(label))\n",
        "  split1 = rnd<percent\n",
        "  split2 = rnd>=percent\n",
        "  split1data = data[split1,:]\n",
        "  split1label = label[split1]\n",
        "  split2data = data[split2,:]\n",
        "  split2label = label[split2]\n",
        "  return split1data, split1label, split2data, split2label"
      ],
      "execution_count": 71,
      "outputs": []
    },
    {
      "cell_type": "markdown",
      "metadata": {
        "id": "AcK3LEAJ_LGC"
      },
      "source": [
        "We will reserve 20% of our dataset as the test set. We will not change this portion throughout our experiments"
      ]
    },
    {
      "cell_type": "code",
      "metadata": {
        "id": "bBZkHBLJ1iU-",
        "colab": {
          "base_uri": "https://localhost:8080/"
        },
        "outputId": "68b3084f-e08f-4b6c-f507-78fa69f27982"
      },
      "source": [
        "testdata, testlabel, alltraindata, alltrainlabel = split(dataset.data, dataset.target, 20/100)\n",
        "print('Number of test samples = ', len(testlabel))\n",
        "print('Number of other samples = ', len(alltrainlabel))\n",
        "print('Percent of test data = ', len(testlabel)*100/len(dataset.target),'%')"
      ],
      "execution_count": 72,
      "outputs": [
        {
          "output_type": "stream",
          "name": "stdout",
          "text": [
            "Number of test samples =  4135\n",
            "Number of other samples =  16505\n",
            "Percent of test data =  20.03391472868217 %\n"
          ]
        }
      ]
    },
    {
      "cell_type": "markdown",
      "metadata": {
        "id": "a6Ss0Z6IAGNV"
      },
      "source": [
        "## Experiments with splits\n",
        "\n",
        "Let us reserve some of our train data as a validation set"
      ]
    },
    {
      "cell_type": "code",
      "metadata": {
        "id": "WFew2iry_7W7"
      },
      "source": [
        "traindata, trainlabel, valdata, vallabel = split(alltraindata, alltrainlabel, 75/100)"
      ],
      "execution_count": 73,
      "outputs": []
    },
    {
      "cell_type": "markdown",
      "metadata": {
        "id": "60hiu4clFN1i"
      },
      "source": [
        "What is the accuracy of our classifiers on the train dataset?"
      ]
    },
    {
      "cell_type": "code",
      "metadata": {
        "id": "DBlZDTHUFTZx",
        "colab": {
          "base_uri": "https://localhost:8080/"
        },
        "outputId": "57e4001b-306f-4ab1-86b5-33046cc02c6b"
      },
      "source": [
        "trainpred = NN(traindata, trainlabel, traindata)\n",
        "trainAccuracy = Accuracy(trainlabel, trainpred)\n",
        "print(\"Train accuracy using nearest neighbour is \", trainAccuracy)\n",
        "\n",
        "trainpred = RandomClassifier(traindata, trainlabel, traindata)\n",
        "trainAccuracy = Accuracy(trainlabel, trainpred)\n",
        "print(\"Train accuracy using random classifier is \", trainAccuracy)"
      ],
      "execution_count": 74,
      "outputs": [
        {
          "output_type": "stream",
          "name": "stdout",
          "text": [
            "Train accuracy using nearest neighbour is  1.0\n",
            "Train accuracy using random classifier is  0.1676342525399129\n"
          ]
        }
      ]
    },
    {
      "cell_type": "markdown",
      "source": [
        "## Interesting: See how train accuracy of nearest neighbour is 1 i.e. 100%. Ponder and Explain."
      ],
      "metadata": {
        "id": "tW_I-YuhbQqA"
      }
    },
    {
      "cell_type": "markdown",
      "metadata": {
        "id": "7h08-9gJDtSy"
      },
      "source": [
        "For nearest neighbour, the train accuracy is always 1. The accuracy of the random classifier is close to 1/(number of classes) which is 0.1666 in our case.\n",
        "\n",
        "Let us predict the labels for our validation set and get the accuracy"
      ]
    },
    {
      "cell_type": "code",
      "metadata": {
        "id": "4h7bXoW_2H3v",
        "colab": {
          "base_uri": "https://localhost:8080/"
        },
        "outputId": "cd0daa91-6958-4ed0-dc97-0c8a797da221"
      },
      "source": [
        "valpred = NN(traindata, trainlabel, valdata)\n",
        "valAccuracy = Accuracy(vallabel, valpred)\n",
        "print(\"Validation accuracy using nearest neighbour is \", valAccuracy)\n",
        "\n",
        "valpred = RandomClassifier(traindata, trainlabel, valdata)\n",
        "valAccuracy = Accuracy(vallabel, valpred)\n",
        "print(\"Validation accuracy using random classifier is \", valAccuracy)"
      ],
      "execution_count": 56,
      "outputs": [
        {
          "output_type": "stream",
          "name": "stdout",
          "text": [
            "Validation accuracy using nearest neighbour is  0.34318236861225476\n",
            "Validation accuracy using random classifier is  0.1717122790021797\n"
          ]
        }
      ]
    },
    {
      "cell_type": "markdown",
      "metadata": {
        "id": "py9bLguFEjfg"
      },
      "source": [
        "Validation accuracy of nearest neighbour is considerably less than its train accuracy while the validation accuracy of random classifier is the same. However, the validation accuracy of nearest neighbour is twice that of the random classifier. \n",
        "\n",
        "Now let us try another random split and check the validation accuracy"
      ]
    },
    {
      "cell_type": "code",
      "metadata": {
        "id": "ujm3cyYzEntE",
        "colab": {
          "base_uri": "https://localhost:8080/"
        },
        "outputId": "bd203530-4f74-47ca-ce51-32c0f3b27d5d"
      },
      "source": [
        "traindata, trainlabel, valdata, vallabel = split(alltraindata, alltrainlabel, 75/100)\n",
        "valpred = NN(traindata, trainlabel, valdata)\n",
        "valAccuracy = Accuracy(vallabel, valpred)\n",
        "print(\"Validation accuracy of nearest neighbour is \", valAccuracy)"
      ],
      "execution_count": 57,
      "outputs": [
        {
          "output_type": "stream",
          "name": "stdout",
          "text": [
            "Validation accuracy of nearest neighbour is  0.3402692778457772\n"
          ]
        }
      ]
    },
    {
      "cell_type": "markdown",
      "metadata": {
        "id": "oSOx7U83EKie"
      },
      "source": [
        "You can run the above cell multiple times to try with different random splits. \n",
        "We notice that the accuracy is different for each run, but close together. \n",
        "\n",
        "Now let us compare it with the accuracy we get on the test dataset. "
      ]
    },
    {
      "cell_type": "code",
      "metadata": {
        "id": "PNEZ5ToYBEDW",
        "colab": {
          "base_uri": "https://localhost:8080/"
        },
        "outputId": "5fb2df4b-ad6e-4c73-96a4-ccbe285cbd1c"
      },
      "source": [
        "testpred = NN(alltraindata, alltrainlabel, testdata)\n",
        "testAccuracy = Accuracy(testlabel, testpred)\n",
        "print('Test accuracy is ', testAccuracy)"
      ],
      "execution_count": 58,
      "outputs": [
        {
          "output_type": "stream",
          "name": "stdout",
          "text": [
            "Test accuracy is  0.34917953667953666\n"
          ]
        }
      ]
    },
    {
      "cell_type": "markdown",
      "metadata": {
        "id": "w3dGD531K3gH"
      },
      "source": [
        "### Try it out for yourself and answer:\n",
        "1. How is the accuracy of the validation set affected if we increase the percentage of validation set? What happens when we reduce it?\n",
        "2. How does the size of the train and validation set affect how well we can predict the accuracy on the test set using the validation set?\n",
        "3. What do you think is a good percentage to reserve for the validation set so that thest two factors are balanced? \n",
        "\n",
        "Answer for both nearest neighbour and random classifier. You can note down the values for your experiments and plot a graph using  <a href=https://matplotlib.org/stable/gallery/lines_bars_and_markers/step_demo.html#sphx-glr-gallery-lines-bars-and-markers-step-demo-py>plt.plot<href>. Check also for extreme values for splits, like 99.9% or 0.1%"
      ]
    },
    {
      "cell_type": "markdown",
      "source": [
        "**ANSWERS:**\n",
        "\n",
        "**for nearest neighbour(NN):**\n",
        "\n",
        "**1**.if we increase the percentage of validation set ,the accuracy of the    validation set decreases.\n",
        "   if we try to reduce it ,the accuracy of the validation set may be increases.\n",
        "\n",
        "**for random classifier(RC):**\n",
        "\n",
        "**1**.if we increase the percentage of validation set,the accuracy of validation set increases.if we decrease the percentage of validtaion set the accuracy of RC decreases.\n",
        "\n",
        "****\n",
        "**2**.if we increase the size of train,more will be mechine can learn.\n",
        "in most of the cases the accuracy on the test set is close to accuracy of validation set. \n",
        "\n",
        "**3**. 85% is good to reserve for the validation set,so that two factors are balanced.\n",
        "\n"
      ],
      "metadata": {
        "id": "Y0VUVw-JOZ9U"
      }
    },
    {
      "cell_type": "code",
      "source": [
        "xpoints = [30,40,75,80,85]\n",
        "ypoints = [0.3188,0.1572,0.1690,0.1670,0.3491]\n",
        "plt.title('GRAPH OF RANDOM CLASSIFIER(RC)')\n",
        "plt.xlabel('percentage of validation set')\n",
        "plt.ylabel('validation Accuracy of RC')\n",
        "plt.plot(xpoints, ypoints)\n",
        "plt.show()"
      ],
      "metadata": {
        "colab": {
          "base_uri": "https://localhost:8080/",
          "height": 295
        },
        "id": "aEHZQF1vd4XM",
        "outputId": "7b27795f-f980-4c44-8e81-c7572f35a4db"
      },
      "execution_count": 59,
      "outputs": [
        {
          "output_type": "display_data",
          "data": {
            "text/plain": [
              "<Figure size 432x288 with 1 Axes>"
            ],
            "image/png": "[encoded data removed]"
          },
          "metadata": {
            "needs_background": "light"
          }
        }
      ]
    },
    {
      "cell_type": "code",
      "source": [
        "xpoints = [30,40,75,80,85]\n",
        "ypoints = [0.3167,0.3242,0.343182,0.3318,0.3491]\n",
        "plt.title('GRAPH OF NEAREST NEIGHBOUR(NN)')\n",
        "plt.ylabel('validation Accuracy of NN')\n",
        "plt.xlabel('percentage of validation set')\n",
        "plt.plot(xpoints, ypoints)\n",
        "plt.show()"
      ],
      "metadata": {
        "colab": {
          "base_uri": "https://localhost:8080/",
          "height": 295
        },
        "id": "cArrAg9Bd8cX",
        "outputId": "e4764642-533d-4c2c-d620-e8872299f5b7"
      },
      "execution_count": 60,
      "outputs": [
        {
          "output_type": "display_data",
          "data": {
            "text/plain": [
              "<Figure size 432x288 with 1 Axes>"
            ],
            "image/png": "[encoded data removed]"
          },
          "metadata": {
            "needs_background": "light"
          }
        }
      ]
    },
    {
      "cell_type": "markdown",
      "metadata": {
        "id": "PnYvkAZLQY7h"
      },
      "source": [
        "## Multiple Splits\n",
        "\n",
        "One way to get more accurate estimates for the test accuracy is by using <b>crossvalidation</b>. Here, we will try a simple version, where we do multiple train/val splits and take the average of validation accuracies as the test accuracy estimation. Here is a function for doing this. Note that this function will take a long time to execute. "
      ]
    },
    {
      "cell_type": "code",
      "source": [
        "100 --- 80 --- 75|5.   12345, 1234|5. 2345|1, 1345|2"
      ],
      "metadata": {
        "id": "Mw-E5-pVX72A"
      },
      "execution_count": null,
      "outputs": []
    },
    {
      "cell_type": "code",
      "metadata": {
        "id": "E4nGCUQXBTzo"
      },
      "source": [
        "# you can use this function for random classifier also\n",
        "def AverageAccuracy(alldata, alllabel, splitpercent, iterations, classifier=NN):\n",
        "  accuracy = 0\n",
        "  for ii in range(iterations):\n",
        "    traindata, trainlabel, valdata, vallabel = split(alldata, alllabel, splitpercent)\n",
        "    valpred = classifier(traindata, trainlabel, valdata)\n",
        "    accuracy += Accuracy(vallabel, valpred)\n",
        "  return accuracy/iterations # average of all accuracies"
      ],
      "execution_count": 75,
      "outputs": []
    },
    {
      "cell_type": "code",
      "metadata": {
        "id": "H3qtNar7Bbik",
        "colab": {
          "base_uri": "https://localhost:8080/"
        },
        "outputId": "537ed3fe-8e5d-400c-b156-d400377b15ca"
      },
      "source": [
        "print('Average validation accuracy is ', AverageAccuracy(alltraindata, alltrainlabel, 75/100, 10, classifier=NN))\n",
        "testpred = NN(alltraindata, alltrainlabel, testdata)\n",
        "print('test accuracy is ',Accuracy(testlabel, testpred) )"
      ],
      "execution_count": 76,
      "outputs": [
        {
          "output_type": "stream",
          "name": "stdout",
          "text": [
            "Average validation accuracy is  0.3381885711753566\n",
            "test accuracy is  0.3535671100362757\n"
          ]
        }
      ]
    },
    {
      "cell_type": "markdown",
      "metadata": {
        "id": "33GIn4x5VH-d"
      },
      "source": [
        "This is a very simple way of doing cross-validation. There are many well-known algorithms for cross-validation, like k-fold cross-validation, leave-one-out etc. This will be covered in detail in a later module. For more information about cross-validation, check <a href=https://en.wikipedia.org/wiki/Cross-validation_(statistics)>Cross-validatioin (Wikipedia)</a>\n",
        "\n",
        "### Questions\n",
        "1. Does averaging the validation accuracy across multiple splits give more consistent results?\n",
        "2. Does it give more accurate estimate of test accuracy?\n",
        "3. What is the effect of the number of iterations on the estimate? Do we get a better estimate with higher iterations?\n",
        "4. Consider the results you got for the previous questions. Can we deal with a very small train dataset or validation dataset by increasing the iterations?\n"
      ]
    },
    {
      "cell_type": "markdown",
      "source": [
        "**ANSWERS**\n",
        "\n",
        "1.yes,averaging the validation accuracy across multiple splits give more consistent results.\n",
        "\n",
        "2.In most of the cases,it gives accurate estimate of test accuracy.\n",
        "\n",
        "3.If the no.of iterations are increased the we had get a better estimate.if we decrease the no.of iterations we are getting approximate estimte not accurately.with higher iterations we are not getting better estimte.\n",
        "\n",
        "4.No,if we consider very small train dataset by increasing the iterations,the accuracy decreases.we shoulod not get a consistent result."
      ],
      "metadata": {
        "id": "Ziik8x57cHfM"
      }
    },
    {
      "cell_type": "markdown",
      "source": [
        "## Now let us see how augmentation affects accuracy. We will pick components from what we studied in the last module"
      ],
      "metadata": {
        "id": "UUft9G1acwlB"
      }
    },
    {
      "cell_type": "markdown",
      "source": [
        "we will experiment with MNIST dataset\n"
      ],
      "metadata": {
        "id": "XtU3AfVDkkYM"
      }
    },
    {
      "cell_type": "code",
      "source": [
        "import numpy as np\n",
        "import matplotlib.pyplot as plt\n",
        "from keras.datasets import mnist\n",
        "# set randomseed\n",
        "rng = np.random.default_rng(seed=42)\n",
        "from sklearn.utils.extmath import cartesian\n",
        "from skimage.transform import rotate, AffineTransform, warp\n",
        "import math\n",
        "\n",
        "#loading the dataset\n",
        "(train_X, train_y), (test_X, test_y) = mnist.load_data()\n",
        "\n",
        "print(train_X[0].shape,train_y[0])\n",
        "\n"
      ],
      "metadata": {
        "id": "47HIwFsMkebm",
        "colab": {
          "base_uri": "https://localhost:8080/"
        },
        "outputId": "80367423-8b0c-4001-fed3-04b445cabb57"
      },
      "execution_count": 77,
      "outputs": [
        {
          "output_type": "stream",
          "name": "stdout",
          "text": [
            "Downloading data from https://storage.googleapis.com/tensorflow/tf-keras-datasets/mnist.npz\n",
            "11493376/11490434 [==============================] - 0s 0us/step\n",
            "11501568/11490434 [==============================] - 0s 0us/step\n",
            "(28, 28) 5\n"
          ]
        }
      ]
    },
    {
      "cell_type": "code",
      "source": [
        "train_X = train_X/255\n",
        "test_X = test_X/255\n",
        "\n",
        "#train_X[0].shape, train_X[0]"
      ],
      "metadata": {
        "id": "WW6ZGBcTkyXB"
      },
      "execution_count": 78,
      "outputs": []
    },
    {
      "cell_type": "code",
      "source": [
        "train_X = train_X[::1200,:,:].copy() # subsample. Otherwise it will take too long!\n",
        "train_y = train_y[::1200].copy() # do the same to the labels"
      ],
      "metadata": {
        "id": "64ATS9mtk_mA"
      },
      "execution_count": 79,
      "outputs": []
    },
    {
      "cell_type": "code",
      "metadata": {
        "id": "1WileBUqC404"
      },
      "source": [
        "## Augmentation functions:\n",
        "\n",
        "\n",
        "\n",
        "def augRotate(sample, angleconstraint):\n",
        "  if angleconstraint==0:\n",
        "    return sample\n",
        "\n",
        "  print(\"shape of sample before is:\", sample.shape)\n",
        "  print(\"len(sample.shape)\", len(sample.shape))\n",
        "  if len(sample.shape)==2:\n",
        "    sample = np.expand_dims(sample, 0)  # make sure the sample is 3 dimensional\n",
        "    print(\"shape of sample is:\", sample.shape)\n",
        "  angle = rng.random(len(sample)) # generate random numbers for angles\n",
        "  print(\"angle is:\", angle)\n",
        "  angle = (angle-0.5)*angleconstraint # make the random angle constrained\n",
        "  print(\"angle with constraint is:\", angle)\n",
        "  nsample = sample.copy() # preallocate the augmented array to make it faster\n",
        "  for ii in range(len(sample)):\n",
        "    nsample[ii] = rotate(sample[ii], angle[ii])\n",
        "  return np.squeeze(nsample) # take care if the input had only one sample.\n",
        "\n",
        "\n",
        "def NN1(traindata, trainlabel, query):\n",
        "  diff  = traindata - query  # find the difference between features. Numpy automatically takes care of the size here \n",
        "  sq = diff*diff # square the differences\n",
        "  dist = sq.sum(1) # add up the squares\n",
        "  label = trainlabel[np.argmin(dist)] # our predicted label is the label of the training data which has the least distance from the query\n",
        "  return label\n",
        "\n",
        "def NN(traindata, trainlabel, testdata):\n",
        "  # we will run nearest neighbour for each sample in the test data \n",
        "  # and collect the predicted classes in an array using list comprehension\n",
        "  traindata = traindata.reshape(-1, 28*28)\n",
        "  testdata = testdata.reshape(-1,28*28)\n",
        "  predlabel = np.array([NN1(traindata, trainlabel, i) for i in testdata])\n",
        "  return predlabel\n",
        "\n",
        "def Accuracy(gtlabel, predlabel):\n",
        "  assert len(gtlabel)==len(predlabel), \"Length of the groundtruth labels and predicted labels should be the same\"\n",
        "  correct = (gtlabel==predlabel).sum() # count the number of times the groundtruth label is equal to the predicted label.\n",
        "  return correct/len(gtlabel)"
      ],
      "execution_count": 80,
      "outputs": []
    },
    {
      "cell_type": "code",
      "source": [
        "def shear(sample, amount):\n",
        "  tform = AffineTransform(shear = amount) # create the shear transform\n",
        "  img = warp(sample, tform) # apply the shear\n",
        "  # this makes the digit off-center. Since all the images in the test set are centralized, we will do the same here\n",
        "  col = img.sum(0).nonzero()[0]\n",
        "  row = img.sum(1).nonzero()[0]\n",
        "  if len(col)>0 and len(row)>0:\n",
        "    xshift = int(sample.shape[0]/2 - (row[0]+row[-1])/2)\n",
        "    yshift = int(sample.shape[1]/2 - (col[0]+col[-1])/2)\n",
        "    img = np.roll(img, (xshift, yshift),(0,1))\n",
        "  return img\n",
        "\n",
        "def augShear(sample, shearconstraint):\n",
        "  if shearconstraint==0:\n",
        "    return sample\n",
        "  if len(sample.shape)==2:\n",
        "    sample = np.expand_dims(sample, 0)  # make sure the sample is 3 dimensional\n",
        "  amt = rng.random(len(sample)) # generate random numbers for shear\n",
        "  amt = (amt-0.5)*shearconstraint # make the random shear constrained\n",
        "  nsample = sample.copy() # preallocate the augmented array to make it faster\n",
        "  for ii in range(len(sample)):\n",
        "    nsample[ii] = shear(sample[ii], amt[ii])\n",
        "  return np.squeeze(nsample) # take care if the input had only one sample.\n",
        "\n",
        "\n"
      ],
      "metadata": {
        "id": "BIsZ_Q5LqWEs"
      },
      "execution_count": 81,
      "outputs": []
    },
    {
      "cell_type": "markdown",
      "source": [
        "In this lab, we will use the image pixels themselves as features, instead of extracting features. Each image has 28*28 pixels, so we will flatten them to 784 pixels to use as features. Note that this is very compute intensive and will take a long time.\n",
        "\n",
        "Let us check the baseline accuracy on the test set without any augmentations. We hope that adding augmentations will help us to get better results."
      ],
      "metadata": {
        "id": "vAFpOzQFj-2r"
      }
    },
    {
      "cell_type": "code",
      "source": [
        "testpred = NN(train_X, train_y, test_X)\n",
        "print('Baseline accuracy without augmentation is ', Accuracy(test_y, testpred))"
      ],
      "metadata": {
        "id": "dPNdNyFVj4pX",
        "colab": {
          "base_uri": "https://localhost:8080/"
        },
        "outputId": "aec50c7a-a5bb-42f7-87f9-4d0fc1eb036c"
      },
      "execution_count": 82,
      "outputs": [
        {
          "output_type": "stream",
          "name": "stdout",
          "text": [
            "Baseline accuracy without augmentation is  0.6472\n"
          ]
        }
      ]
    },
    {
      "cell_type": "markdown",
      "source": [
        "Let us try to improve this accuracy using augmentations. When we create augmentations, we have to make sure that the changes reflect what will naturally occur in the dataset. For example, we should not add colour to our samples as an augmentation because they do not naturally occur. We should not also flip the images in MNIST, because flipped images have different meanings for digits."
      ],
      "metadata": {
        "id": "MckdgpPflSYh"
      }
    },
    {
      "cell_type": "markdown",
      "source": [
        "Let us augment the whole dataset and see if this improves the test accuracy"
      ],
      "metadata": {
        "id": "7aWfHHggmqu7"
      }
    },
    {
      "cell_type": "code",
      "source": [
        "# hyperparameters\n",
        "angleconstraint = 60\n",
        "naugmentations = 5\n",
        "\n",
        "# augment\n",
        "augdata = train_X # we include the original images also in the augmented dataset\n",
        "auglabel = train_y\n",
        "for ii in range(naugmentations):\n",
        "  augdata = np.concatenate((augdata, augRotate(train_X, angleconstraint))) # concatenate the augmented data to the set\n",
        "  auglabel = np.concatenate((auglabel, train_y))  # the labels don't change when we augment\n",
        "\n",
        "# check the test accuracy\n",
        "testpred = NN(augdata, auglabel, test_X)\n",
        "print('Accuracy after rotation augmentation is ', Accuracy(test_y, testpred))"
      ],
      "metadata": {
        "id": "Kdn0TZ_tlMg3",
        "colab": {
          "base_uri": "https://localhost:8080/"
        },
        "outputId": "33bba469-a50b-4915-9b6a-6d09b06bedb4"
      },
      "execution_count": 83,
      "outputs": [
        {
          "output_type": "stream",
          "name": "stdout",
          "text": [
            "shape of sample before is: (50, 28, 28)\n",
            "len(sample.shape) 3\n",
            "angle is: [0.77395605 0.43887844 0.85859792 0.69736803 0.09417735 0.97562235\n",
            " 0.7611397  0.78606431 0.12811363 0.45038594 0.37079802 0.92676499\n",
            " 0.64386512 0.82276161 0.4434142  0.22723872 0.55458479 0.06381726\n",
            " 0.82763117 0.6316644  0.75808774 0.35452597 0.97069802 0.89312112\n",
            " 0.7783835  0.19463871 0.466721   0.04380377 0.15428949 0.68304895\n",
            " 0.74476216 0.96750973 0.32582536 0.37045971 0.46955581 0.18947136\n",
            " 0.12992151 0.47570493 0.22690935 0.66981399 0.43715192 0.8326782\n",
            " 0.7002651  0.31236664 0.8322598  0.80476436 0.38747838 0.2883281\n",
            " 0.6824955  0.13975248]\n",
            "angle with constraint is: [ 16.43736291  -3.66729361  21.51587519  11.84208174 -24.34935913\n",
            "  28.5373411   15.66838212  17.16385832 -22.31318204  -2.97684373\n",
            "  -7.75211855  25.60589933   8.6319072   19.3656968   -3.39514807\n",
            " -16.36567669   3.27508722 -26.17096463  19.65787032   7.89986395\n",
            "  15.48526441  -8.72844191  28.24188146  23.58726728  16.70300982\n",
            " -18.32167753  -1.99673978 -27.37177405 -20.74263048  10.98293719\n",
            "  14.68572935  28.05058395 -10.45047851  -7.77241764  -1.82665132\n",
            " -18.63171845 -22.20470968  -1.45770443 -16.38543906  10.18883968\n",
            "  -3.77088487  19.96069176  12.01590612 -11.25800152  19.93558808\n",
            "  18.28586145  -6.75129726 -12.70031376  10.94973024 -21.61485098]\n",
            "shape of sample before is: (50, 28, 28)\n",
            "len(sample.shape) 3\n",
            "angle is: [0.1999082  0.00736227 0.78692438 0.66485086 0.70516538 0.78072903\n",
            " 0.45891578 0.5687412  0.139797   0.11453007 0.66840296 0.47109621\n",
            " 0.56523611 0.76499886 0.63471832 0.5535794  0.55920716 0.3039501\n",
            " 0.03081783 0.43671739 0.21458467 0.40852864 0.85340307 0.23393949\n",
            " 0.05830274 0.28138389 0.29359376 0.66191651 0.55703215 0.78389821\n",
            " 0.66431354 0.40638686 0.81402038 0.16697292 0.02271207 0.09004786\n",
            " 0.72235935 0.46187723 0.16127178 0.50104478 0.1523121  0.69632038\n",
            " 0.44615628 0.38102123 0.30151209 0.63028259 0.36181261 0.08764992\n",
            " 0.1180059  0.96189766]\n",
            "angle with constraint is: [-18.00550785 -29.55826381  17.21546265   9.8910514   12.30992272\n",
            "  16.84374186  -2.46505347   4.12447176 -21.61218011 -23.12819559\n",
            "  10.10417771  -1.73422763   3.91416639  15.89993144   8.0830992\n",
            "   3.21476404   3.55242964 -11.76299412 -28.15092993  -3.79695665\n",
            " -17.12491963  -5.48828138  21.2041844  -15.96363085 -26.5018355\n",
            " -13.11696648 -12.38437453   9.71499088   3.42192914  17.03389255\n",
            "   9.85881242  -5.61678831  18.84122308 -19.98162481 -28.63727561\n",
            " -24.59712835  13.34156104  -2.28736618 -20.32369326   0.06268651\n",
            " -20.86127384  11.7792225   -3.23062347  -7.13872643 -11.90927465\n",
            "   7.81695559  -8.29124337 -24.74100484 -22.91964587  27.71385987]\n",
            "shape of sample before is: (50, 28, 28)\n",
            "len(sample.shape) 3\n",
            "angle is: [0.90858069 0.69970713 0.26586996 0.96917638 0.7787509  0.71689019\n",
            " 0.4493615  0.27224156 0.09639096 0.9026024  0.45577629 0.20236336\n",
            " 0.30595662 0.57921957 0.17677278 0.85661428 0.75851953 0.71946296\n",
            " 0.43209304 0.62730884 0.58409797 0.6498466  0.08444432 0.4158074\n",
            " 0.04161417 0.49399082 0.32986121 0.14452419 0.10340297 0.58764457\n",
            " 0.17059297 0.92512012 0.58106114 0.3468698  0.59091549 0.02280387\n",
            " 0.95855921 0.48230344 0.78273523 0.08273    0.48665833 0.49070699\n",
            " 0.93782645 0.57172805 0.4734894  0.26697566 0.331569   0.5206724\n",
            " 0.43891146 0.02161208]\n",
            "angle with constraint is: [ 24.51484144  11.98242803 -14.04780231  28.15058264  16.72505424\n",
            "  13.01341135  -3.03830987 -13.66550629 -24.21654227  24.15614379\n",
            "  -2.65342261 -17.85819811 -11.64260255   4.75317414 -19.39363302\n",
            "  21.39685705  15.51117179  13.16777736  -4.07441761   7.63853044\n",
            "   5.04587813   8.99079609 -24.93334073  -5.05155587 -27.50314957\n",
            "  -0.36055085 -10.20832726 -21.32854867 -23.79582194   5.25867433\n",
            " -19.76442189  25.5072071    4.86366838  -9.18781173   5.45492949\n",
            " -28.63176774  27.51355279  -1.06179378  16.96411364 -25.0362\n",
            "  -0.80050015  -0.55758034  26.2695873    4.30368314  -1.59063594\n",
            " -13.98146021 -10.10586016   1.24034415  -3.66531238 -28.70327521]\n",
            "shape of sample before is: (50, 28, 28)\n",
            "len(sample.shape) 3\n",
            "angle is: [0.82629192 0.89616077 0.14024909 0.55403614 0.10857574 0.67224009\n",
            " 0.28123378 0.65942263 0.72699461 0.76864749 0.10774095 0.91601185\n",
            " 0.23021399 0.03741256 0.55485247 0.37092228 0.82978974 0.80825147\n",
            " 0.31713889 0.9528994  0.29091784 0.51505713 0.25596509 0.93604357\n",
            " 0.16460782 0.04491062 0.43509706 0.99237556 0.89167727 0.74860802\n",
            " 0.89079249 0.89344664 0.51885836 0.31592905 0.77201243 0.66166126\n",
            " 0.37365773 0.09446667 0.74678961 0.26246052 0.93681315 0.24097058\n",
            " 0.12275793 0.83111267 0.15328432 0.17926831 0.59938279 0.87456204\n",
            " 0.19643467 0.31032367]\n",
            "angle with constraint is: [ 19.57751545  23.76964631 -21.58505466   3.24216861 -23.48545553\n",
            "  10.33440558 -13.12597297   9.56535808  13.61967686  16.11884952\n",
            " -23.53554324  24.96071071 -16.18716055 -27.75524663   3.29114816\n",
            "  -7.74466297  19.78738459  18.49508832 -10.97166643  27.1739637\n",
            " -12.54492971   0.90342775 -14.64209457  26.1626142  -20.12353095\n",
            " -27.30536284  -3.8941764   29.54253384  23.50063598  14.91648117\n",
            "  23.44754945  23.60679838   1.13150162 -11.04425689  16.32074593\n",
            "   9.69967579  -7.58053627 -24.33199992  14.80737668 -14.25236904\n",
            "  26.20878903 -15.5417655  -22.63452406  19.86676033 -20.802941\n",
            " -19.24390151   5.96296749  22.47372245 -18.21392006 -11.38057963]\n",
            "shape of sample before is: (50, 28, 28)\n",
            "len(sample.shape) 3\n",
            "angle is: [0.77740484 0.97182643 0.50074119 0.1438975  0.01393629 0.22965603\n",
            " 0.13182222 0.67765867 0.1218325  0.50632993 0.69426244 0.58111661\n",
            " 0.19977565 0.80412453 0.71540713 0.738984   0.13105775 0.1237538\n",
            " 0.92756255 0.39757819 0.30094869 0.48858405 0.66286421 0.95562326\n",
            " 0.28644623 0.92480843 0.02485949 0.55519804 0.63397511 0.1058974\n",
            " 0.1403396  0.41911432 0.96623191 0.59604255 0.93302322 0.80436092\n",
            " 0.4673816  0.78476345 0.01783678 0.109144   0.82942861 0.79681709\n",
            " 0.23264074 0.53076959 0.60601582 0.86773895 0.60310716 0.41257157\n",
            " 0.37418404 0.42588209]\n",
            "angle with constraint is: [ 16.64429029  28.30958556   0.04447117 -21.36614985 -29.16382274\n",
            " -16.2206382  -22.09066693  10.65952042 -22.69004972   0.3797959\n",
            "  11.65574614   4.86699655 -18.0134609   18.24747157  12.92442778\n",
            "  14.33904023 -22.13653491 -22.57477178  25.65375306  -6.14530837\n",
            " -11.94307849  -0.68495728   9.77185277  27.33739542 -12.81322639\n",
            "  25.48850576 -28.50843052   3.31188254   8.0385067  -23.64615577\n",
            " -21.57962418  -4.85314084  27.97391473   5.76255319  25.9813933\n",
            "  18.26165494  -1.95710391  17.08580696 -28.92979296 -23.45136019\n",
            "  19.76571689  17.8090253  -16.04155548   1.84617544   6.36094924\n",
            "  22.06433723   6.18642944  -5.24570584  -7.5489574   -4.44707482]\n",
            "Accuracy after rotation augmentation is  0.6742\n"
          ]
        }
      ]
    },
    {
      "cell_type": "markdown",
      "source": [
        "The angle constraint is a hyperparameter which we have to tune using a validation set. (Here we are not doing that for time constraints). Let us try a grid search to find the best angle constraint."
      ],
      "metadata": {
        "id": "R6vwKYxNnjvS"
      }
    },
    {
      "cell_type": "code",
      "source": [
        "angleconstraints = [0,10,20,30,40,50,60,70,80,90] # the values we want to test\n",
        "accuracies = np.zeros(len(angleconstraints), dtype=np.float) # we will save the values here\n",
        "\n",
        "for ii in range(len(angleconstraints)):\n",
        "  # create the augmented dataset\n",
        "  augdata = train_X # we include the original images also in the augmented dataset\n",
        "  auglabel = train_y\n",
        "  for jj in range(naugmentations):\n",
        "    augdata = np.concatenate((augdata, augRotate(train_X, angleconstraints[ii]))) # concatenate the augmented data to the set\n",
        "    auglabel = np.concatenate((auglabel, train_y))  # the labels don't change when we augment\n",
        "\n",
        "  # check the test accuracy\n",
        "  testpred = NN(augdata, auglabel, test_X)\n",
        "  accuracies[ii] = Accuracy(test_y, testpred)\n",
        "  print('Accuracy after rotation augmentation constrained by ',angleconstraints[ii], ' is ', accuracies[ii], flush=True)"
      ],
      "metadata": {
        "id": "2TuE7cTCnZ9g",
        "colab": {
          "base_uri": "https://localhost:8080/"
        },
        "outputId": "f3e4dad6-fa02-41fd-d211-35eb28ba299c"
      },
      "execution_count": 85,
      "outputs": [
        {
          "output_type": "stream",
          "name": "stderr",
          "text": [
            "/usr/local/lib/python3.7/dist-packages/ipykernel_launcher.py:2: DeprecationWarning: `np.float` is a deprecated alias for the builtin `float`. To silence this warning, use `float` by itself. Doing this will not modify any behavior and is safe. If you specifically wanted the numpy scalar type, use `np.float64` here.\n",
            "Deprecated in NumPy 1.20; for more details and guidance: https://numpy.org/devdocs/release/1.20.0-notes.html#deprecations\n",
            "  \n"
          ]
        },
        {
          "output_type": "stream",
          "name": "stdout",
          "text": [
            "Accuracy after rotation augmentation constrained by  0  is  0.6472\n",
            "shape of sample before is: (50, 28, 28)\n",
            "len(sample.shape) 3\n",
            "angle is: [0.84273197 0.44638949 0.95297516 0.65079459 0.11589887 0.88509299\n",
            " 0.48926519 0.14163897 0.15269013 0.68753394 0.04737251 0.28659376\n",
            " 0.13978759 0.44107743 0.41435377 0.52187643 0.27963633 0.03204359\n",
            " 0.61438611 0.373718   0.651335   0.10866697 0.01377736 0.24829425\n",
            " 0.45654732 0.39407197 0.81030256 0.37783764 0.53044118 0.59351559\n",
            " 0.02183139 0.51513338 0.34483126 0.42128013 0.1002874  0.78282057\n",
            " 0.94240425 0.02226882 0.60137276 0.76384407 0.28480759 0.78755558\n",
            " 0.63235505 0.92916263 0.98100481 0.04234611 0.44493776 0.54698779\n",
            " 0.14674323 0.33628583]\n",
            "angle with constraint is: [ 3.42731969 -0.53610508  4.52975162  1.5079459  -3.84101135  3.85092988\n",
            " -0.10734809 -3.58361032 -3.47309866  1.87533935 -4.52627493 -2.13406235\n",
            " -3.6021241  -0.5892257  -0.85646228  0.21876435 -2.20363671 -4.67956411\n",
            "  1.14386107 -1.26281997  1.51334999 -3.91333029 -4.86222645 -2.51705752\n",
            " -0.43452677 -1.05928026  3.10302555 -1.22162356  0.3044118   0.93515592\n",
            " -4.78168608  0.15133377 -1.55168741 -0.78719872 -3.99712602  2.82820566\n",
            "  4.42404251 -4.77731179  1.01372763  2.63844067 -2.15192411  2.87555585\n",
            "  1.32355051  4.29162632  4.81004811 -4.57653886 -0.55062239  0.46987788\n",
            " -3.53256767 -1.6371417 ]\n",
            "shape of sample before is: (50, 28, 28)\n",
            "len(sample.shape) 3\n",
            "angle is: [0.98764745 0.01623046 0.45250793 0.84265462 0.32390126 0.4797985\n",
            " 0.97804575 0.47487684 0.13092131 0.05172149 0.94541657 0.26580941\n",
            " 0.50406391 0.09070177 0.42365512 0.93010552 0.50241299 0.97113515\n",
            " 0.25883564 0.50454524 0.85953079 0.44825235 0.27948737 0.85547536\n",
            " 0.38988947 0.53072329 0.97652707 0.18648329 0.30140064 0.0310696\n",
            " 0.39183771 0.20018343 0.68003494 0.18132146 0.67481275 0.26347543\n",
            " 0.35521783 0.34886065 0.71675175 0.46650926 0.3612989  0.85262272\n",
            " 0.57195063 0.21383082 0.90009128 0.3426503  0.03897938 0.49460022\n",
            " 0.12393805 0.23846644]\n",
            "angle with constraint is: [ 4.87647448 -4.83769544 -0.47492068  3.42654622 -1.76098737 -0.20201497\n",
            "  4.78045746 -0.25123164 -3.69078688 -4.48278508  4.45416572 -2.34190587\n",
            "  0.04063907 -4.09298234 -0.76344879  4.30105519  0.02412994  4.71135152\n",
            " -2.41164363  0.0454524   3.59530792 -0.51747645 -2.20512626  3.55475363\n",
            " -1.10110531  0.30723291  4.76527066 -3.13516705 -1.98599363 -4.689304\n",
            " -1.0816229  -2.99816569  1.80034935 -3.18678541  1.74812752 -2.36524572\n",
            " -1.44782166 -1.51139348  2.1675175  -0.33490737 -1.38701101  3.52622719\n",
            "  0.71950626 -2.86169179  4.00091278 -1.57349704 -4.61020622 -0.05399776\n",
            " -3.76061946 -2.61533556]\n",
            "shape of sample before is: (50, 28, 28)\n",
            "len(sample.shape) 3\n",
            "angle is: [0.74711087 0.13075181 0.80694422 0.93690729 0.6065321  0.71035919\n",
            " 0.71358661 0.99280796 0.34153826 0.16285655 0.51916723 0.53324981\n",
            " 0.17791249 0.61310942 0.01412473 0.9276684  0.26457428 0.03956021\n",
            " 0.10824944 0.24024895 0.27390617 0.03281    0.27935481 0.19294174\n",
            " 0.37862093 0.38516774 0.33900774 0.32792388 0.08973128 0.02520495\n",
            " 0.2021143  0.75664943 0.99080977 0.92852618 0.50421936 0.53182386\n",
            " 0.31458157 0.77393944 0.76475669 0.84427236 0.89550458 0.43434925\n",
            " 0.76687557 0.80639873 0.30845962 0.92924224 0.0943415  0.99426918\n",
            " 0.77009072 0.09327091]\n",
            "angle with constraint is: [ 2.47110873 -3.69248187  3.06944224  4.36907288  1.065321    2.10359192\n",
            "  2.1358661   4.92807957 -1.58461738 -3.37143449  0.19167235  0.3324981\n",
            " -3.22087512  1.13109419 -4.85875267  4.27668402 -2.35425722 -4.60439792\n",
            " -3.91750559 -2.59751052 -2.26093831 -4.67190001 -2.20645188 -3.07058264\n",
            " -1.21379073 -1.14832263 -1.60992259 -1.72076116 -4.10268722 -4.74795053\n",
            " -2.978857    2.56649427  4.90809766  4.28526175  0.04219356  0.31823856\n",
            " -1.85418431  2.73939439  2.64756688  3.44272358  3.95504577 -0.65650752\n",
            "  2.66875568  3.06398729 -1.91540378  4.29242244 -4.05658497  4.94269179\n",
            "  2.70090718 -4.06729095]\n",
            "shape of sample before is: (50, 28, 28)\n",
            "len(sample.shape) 3\n",
            "angle is: [0.65622965 0.03417941 0.77018695 0.79922292 0.60241025 0.85686039\n",
            " 0.09788328 0.27592384 0.41417752 0.04245795 0.44821609 0.26521346\n",
            " 0.39273501 0.42510263 0.87941173 0.27034097 0.89374313 0.42597096\n",
            " 0.32780772 0.50251205 0.41774329 0.25737231 0.50267932 0.15180173\n",
            " 0.35192994 0.56579022 0.41340824 0.82391236 0.25672176 0.96977158\n",
            " 0.78472202 0.96759303 0.83813655 0.14210393 0.52646009 0.16997852\n",
            " 0.81822735 0.58416215 0.26344931 0.92959897 0.11518605 0.5638624\n",
            " 0.72104055 0.05884854 0.59785603 0.81590122 0.06752731 0.51224297\n",
            " 0.25855718 0.66292445]\n",
            "angle with constraint is: [ 1.56229648 -4.65820589  2.70186949  2.99222922  1.02410253  3.56860392\n",
            " -4.0211672  -2.24076158 -0.85822478 -4.57542047 -0.51783912 -2.34786544\n",
            " -1.07264988 -0.74897368  3.79411733 -2.29659029  3.93743129 -0.74029035\n",
            " -1.72192279  0.02512049 -0.82256714 -2.42627687  0.02679325 -3.48198267\n",
            " -1.48070057  0.65790219 -0.86591756  3.23912361 -2.43278238  4.69771579\n",
            "  2.84722021  4.67593026  3.38136555 -3.57896074  0.26460091 -3.30021479\n",
            "  3.18227353  0.84162149 -2.36550686  4.29598972 -3.84813947  0.63862403\n",
            "  2.21040555 -4.41151463  0.97856033  3.15901215 -4.32472686  0.12242971\n",
            " -2.41442822  1.62924452]\n",
            "shape of sample before is: (50, 28, 28)\n",
            "len(sample.shape) 3\n",
            "angle is: [0.11867737 0.93705143 0.89472858 0.18597442 0.32326588 0.58763497\n",
            " 0.71806234 0.44265602 0.15629132 0.10415149 0.99976534 0.45535212\n",
            " 0.87253175 0.482376   0.92235764 0.08775938 0.11401919 0.92963219\n",
            " 0.94749305 0.31471745 0.35516489 0.45245023 0.41616168 0.19004522\n",
            " 0.89837538 0.2533076  0.70527241 0.06715568 0.03875133 0.65373047\n",
            " 0.33901586 0.65545939 0.0940212  0.94985138 0.74851447 0.87626723\n",
            " 0.13647055 0.32016097 0.36834416 0.53717265 0.29686849 0.06063074\n",
            " 0.36887838 0.25454931 0.38592129 0.19695954 0.26189637 0.62695234\n",
            " 0.38815383 0.34538339]\n",
            "angle with constraint is: [-3.81322633  4.37051431  3.94728582 -3.1402558  -1.76734116  0.87634975\n",
            "  2.18062337 -0.57343985 -3.43708678 -3.95848506  4.99765337 -0.44647879\n",
            "  3.72531749 -0.17623995  4.22357639 -4.12240617 -3.85980809  4.29632188\n",
            "  4.47493045 -1.85282553 -1.44835113 -0.47549765 -0.8383832  -3.09954784\n",
            "  3.98375384 -2.46692399  2.05272409 -4.32844322 -4.61248668  1.53730473\n",
            " -1.60984142  1.55459393 -4.05978798  4.4985138   2.48514467  3.76267233\n",
            " -3.63529446 -1.79839031 -1.31655836  0.37172648 -2.03131514 -4.39369258\n",
            " -1.31121619 -2.45450685 -1.14078709 -3.03040457 -2.38103625  1.2695234\n",
            " -1.11846165 -1.54616607]\n",
            "Accuracy after rotation augmentation constrained by  10  is  0.669\n",
            "shape of sample before is: (50, 28, 28)\n",
            "len(sample.shape) 3\n",
            "angle is: [0.53390563 0.77186054 0.37886796 0.58751949 0.96620263 0.52198011\n",
            " 0.90979758 0.79367262 0.05871868 0.42909887 0.69831841 0.98671191\n",
            " 0.45837629 0.09278545 0.56200917 0.12656379 0.75151956 0.507677\n",
            " 0.72343137 0.86936183 0.62894802 0.61243933 0.7545703  0.842455\n",
            " 0.86905379 0.0364302  0.5561903  0.21626931 0.86034589 0.64839769\n",
            " 0.42022248 0.18810423 0.33902363 0.70377769 0.20435955 0.09358295\n",
            " 0.88802876 0.76421035 0.19979493 0.29231154 0.97207018 0.70818449\n",
            " 0.610522   0.30762849 0.29912514 0.03952362 0.72848187 0.04317523\n",
            " 0.00485734 0.72949509]\n",
            "angle with constraint is: [ 0.67811265  5.43721082 -2.42264087  1.75038985  9.32405251  0.43960228\n",
            "  8.19595153  5.87345249 -8.82562637 -1.41802257  3.96636816  9.73423825\n",
            " -0.83247418 -8.14429092  1.24018349 -7.46872416  5.03039121  0.15353995\n",
            "  4.46862737  7.38723654  2.57896034  2.24878659  5.09140591  6.84910003\n",
            "  7.38107573 -9.27139609  1.12380594 -5.6746138   7.20691782  2.9679537\n",
            " -1.59555042 -6.23791544 -3.21952748  4.07555389 -5.9128091  -8.12834109\n",
            "  7.76057516  5.28420699 -6.00410139 -4.15376913  9.44140354  4.16368974\n",
            "  2.21044008 -3.84743029 -4.01749712 -9.20952763  4.56963734 -9.1364955\n",
            " -9.90285324  4.58990176]\n",
            "shape of sample before is: (50, 28, 28)\n",
            "len(sample.shape) 3\n",
            "angle is: [0.94887376 0.75650305 0.47164019 0.48604525 0.43613642 0.32464367\n",
            " 0.52171421 0.43115096 0.59816788 0.89812008 0.99500942 0.07874329\n",
            " 0.38468347 0.1807062  0.35212047 0.28747302 0.17453713 0.76407605\n",
            " 0.49628874 0.91924558 0.03259244 0.06697801 0.40327358 0.08027732\n",
            " 0.2627296  0.98602974 0.20895961 0.19811774 0.57364067 0.49799829\n",
            " 0.5804383  0.37673528 0.82676236 0.13858055 0.42839265 0.68976185\n",
            " 0.86823644 0.36957161 0.5677456  0.06913995 0.17031909 0.06913816\n",
            " 0.72788089 0.28805997 0.72374529 0.06639828 0.8625478  0.8355302\n",
            " 0.08892874 0.02375651]\n",
            "angle with constraint is: [ 8.97747514  5.13006095 -0.56719619 -0.27909501 -1.27727155 -3.50712666\n",
            "  0.43428428 -1.37698086  1.9633576   7.96240161  9.90018835 -8.4251342\n",
            " -2.30633055 -6.38587608 -2.95759052 -4.25053963 -6.50925737  5.28152107\n",
            " -0.07422514  8.38491164 -9.34815114 -8.66043974 -1.93452834 -8.39445359\n",
            " -4.74540807  9.72059486 -5.82080785 -6.03764517  1.47281338 -0.04003418\n",
            "  1.60876594 -2.46529444  6.5352472  -7.22838897 -1.43214708  3.79523697\n",
            "  7.36472881 -2.60856787  1.35491198 -8.6172011  -6.59361824 -8.61723675\n",
            "  4.55761784 -4.23880063  4.4749058  -8.67203442  7.25095601  6.71060396\n",
            " -8.22142514 -9.52486987]\n",
            "shape of sample before is: (50, 28, 28)\n",
            "len(sample.shape) 3\n",
            "angle is: [0.05628881 0.85363017 0.23470349 0.54827332 0.4262442  0.79552553\n",
            " 0.4888983  0.50066084 0.98909194 0.15012956 0.83070394 0.05174975\n",
            " 0.47764877 0.88633482 0.66521397 0.68521462 0.26331728 0.41857479\n",
            " 0.36658106 0.52144321 0.46222793 0.32689835 0.30548061 0.25085289\n",
            " 0.36504725 0.14994148 0.8721043  0.60211939 0.13378643 0.69385933\n",
            " 0.84766647 0.23753567 0.15060059 0.00861726 0.04725034 0.76225135\n",
            " 0.98718633 0.04488032 0.74807096 0.07186217 0.59213282 0.75607528\n",
            " 0.3592044  0.01093472 0.59518935 0.99124463 0.25761742 0.18949128\n",
            " 0.12392589 0.55525562]\n",
            "angle with constraint is: [-8.87422374  7.07260346 -5.30593022  0.96546636 -1.47511594  5.91051052\n",
            " -0.22203397  0.01321681  9.78183879 -6.99740887  6.61407877 -8.96500509\n",
            " -0.44702461  7.72669648  3.30427931  3.70429239 -4.73365435 -1.62850417\n",
            " -2.66837873  0.4288642  -0.7554414  -3.46203296 -3.89038775 -4.98294217\n",
            " -2.69905506 -7.00117044  7.44208604  2.04238784 -7.32427149  3.87718668\n",
            "  6.95332936 -5.24928656 -6.98798811 -9.82765486 -9.05499322  5.24502697\n",
            "  9.74372664 -9.10239355  4.96141918 -8.56275668  1.8426565   5.12150565\n",
            " -2.81591205 -9.78130558  1.90378704  9.82489256 -4.84765154 -6.21017446\n",
            " -7.52148214  1.1051124 ]\n",
            "shape of sample before is: (50, 28, 28)\n",
            "len(sample.shape) 3\n",
            "angle is: [0.5964451  0.79227084 0.75307327 0.89254149 0.8057727  0.24726708\n",
            " 0.5558774  0.29741196 0.32978538 0.93194437 0.68189591 0.97459041\n",
            " 0.41691254 0.53743757 0.48711542 0.10728706 0.23670199 0.52763636\n",
            " 0.06737431 0.93146193 0.12384368 0.19798075 0.76532122 0.09693454\n",
            " 0.9002781  0.72570097 0.06862086 0.69184706 0.63162854 0.75734943\n",
            " 0.82819785 0.71835056 0.5861763  0.32246332 0.69727366 0.95697158\n",
            " 0.58752178 0.66434487 0.43712804 0.75612081 0.99766739 0.16038932\n",
            " 0.20240528 0.53943776 0.4813754  0.57156978 0.04907405 0.40427646\n",
            " 0.58297826 0.58519135]\n",
            "angle with constraint is: [ 1.92890199  5.84541674  5.06146547  7.8508299   6.11545397 -5.05465834\n",
            "  1.1175481  -4.05176082 -3.40429241  8.63888738  3.6379181   9.49180827\n",
            " -1.66174927  0.74875147 -0.2576916  -7.85425885 -5.26596011  0.55272721\n",
            " -8.6525139   8.62923859 -7.52312636 -6.04038507  5.30642448 -8.06130916\n",
            "  8.00556199  4.51401941 -8.62758286  3.83694123  2.63257084  5.14698865\n",
            "  6.56395705  4.36701126  1.72352591 -3.55073363  3.94547324  9.13943169\n",
            "  1.75043561  3.28689737 -1.25743916  5.12241619  9.95334785 -6.79221352\n",
            " -5.95189441  0.78875517 -0.37249205  1.43139569 -9.01851905 -1.91447087\n",
            "  1.65956524  1.70382703]\n",
            "shape of sample before is: (50, 28, 28)\n",
            "len(sample.shape) 3\n",
            "angle is: [0.65733396 0.72021603 0.6415472  0.79024316 0.62476063 0.53750766\n",
            " 0.60619643 0.10119337 0.27315654 0.52739978 0.87298722 0.67905156\n",
            " 0.09040808 0.59227495 0.22173799 0.73401656 0.82744085 0.59345627\n",
            " 0.59136261 0.33859144 0.44625002 0.86410835 0.72332033 0.51975366\n",
            " 0.36823239 0.05037974 0.1430074  0.19302519 0.37338354 0.94414365\n",
            " 0.50515339 0.23484016 0.10575014 0.33830552 0.81573064 0.38334279\n",
            " 0.77250581 0.80270498 0.11082077 0.60865975 0.95909606 0.40213807\n",
            " 0.05094409 0.92330269 0.88366628 0.52214145 0.55225312 0.2117411\n",
            " 0.81945076 0.49860004]\n",
            "angle with constraint is: [ 3.14667924  4.40432058  2.83094407  5.80486311  2.49521269  0.75015325\n",
            "  2.12392858 -7.97613266 -4.53686919  0.54799561  7.45974431  3.58103113\n",
            " -8.19183843  1.84549901 -5.56524025  4.6803312   6.54881705  1.86912545\n",
            "  1.8272522  -3.22817114 -1.07499958  7.28216708  4.46640662  0.39507319\n",
            " -2.63535228 -8.99240523 -7.13985197 -6.13949621 -2.53232913  8.88287294\n",
            "  0.1030679  -5.30319673 -7.88499725 -3.23388951  6.31461271 -2.33314413\n",
            "  5.45011612  6.05409952 -7.78358461  2.17319505  9.18192127 -1.9572385\n",
            " -8.98111822  8.46605381  7.67332563  0.44282894  1.04506241 -5.76517794\n",
            "  6.38901511 -0.02799923]\n",
            "Accuracy after rotation augmentation constrained by  20  is  0.6764\n",
            "shape of sample before is: (50, 28, 28)\n",
            "len(sample.shape) 3\n",
            "angle is: [0.0338778  0.68301496 0.95049627 0.82915049 0.27719814 0.05332508\n",
            " 0.94035141 0.93706272 0.53241532 0.64231741 0.46260006 0.41976537\n",
            " 0.11944844 0.0967529  0.23273215 0.83664075 0.1458323  0.22669865\n",
            " 0.54861406 0.21513122 0.16320668 0.56331624 0.36809327 0.62615929\n",
            " 0.91220534 0.15099313 0.91343366 0.90248997 0.82908758 0.63128592\n",
            " 0.62014666 0.63921266 0.69049555 0.0164822  0.95809258 0.58560376\n",
            " 0.78146584 0.37728184 0.01239721 0.50973466 0.50719012 0.43698929\n",
            " 0.33971705 0.24982609 0.52754487 0.37527814 0.96993188 0.17292731\n",
            " 0.31966557 0.29396047]\n",
            "angle with constraint is: [-13.98366615   5.49044869  13.51488809   9.87451471  -6.68405579\n",
            " -13.40024745  13.21054238  13.11188175   0.97245959   4.26952235\n",
            "  -1.12199818  -2.40703899 -11.41654692 -12.09741305  -8.0180356\n",
            "  10.09922239 -10.62503098  -8.19904044   1.45842178  -8.54606346\n",
            " -10.10379946   1.89948725  -3.95720187   3.78477858  12.36616021\n",
            " -10.47020606  12.40300979  12.07469902   9.8726275    3.93857752\n",
            "   3.60439972   4.1763798    5.71486654 -14.50553398  13.74277737\n",
            "   2.56811284   8.44397518  -3.68154483 -14.62808358   0.2920398\n",
            "   0.21570358  -1.89032135  -4.80848838  -7.50521737   0.82634623\n",
            "  -3.74165581  14.09795649  -9.81218077  -5.41003297  -6.18118587]\n",
            "shape of sample before is: (50, 28, 28)\n",
            "len(sample.shape) 3\n",
            "angle is: [0.54330918 0.49928026 0.64374047 0.95000177 0.28522109 0.69277157\n",
            " 0.0250402  0.26238847 0.46371973 0.03099479 0.61766946 0.67831061\n",
            " 0.74673171 0.5165745  0.60394466 0.39606525 0.04125303 0.09995186\n",
            " 0.65499592 0.9955553  0.01580324 0.5575835  0.75100875 0.82677483\n",
            " 0.5452049  0.61991598 0.69672495 0.85896625 0.12228954 0.9261822\n",
            " 0.0260174  0.83619975 0.07674043 0.19462821 0.00389415 0.44525671\n",
            " 0.33435923 0.16599291 0.45109016 0.40237088 0.76766103 0.89313031\n",
            " 0.65256725 0.12441039 0.29539079 0.9133183  0.08873449 0.40685584\n",
            " 0.94250462 0.95066484]\n",
            "angle with constraint is: [  1.29927529  -0.02159229   4.31221396  13.50005312  -6.44336744\n",
            "   5.78314708 -14.24879391  -7.12834582  -1.08840816 -14.07015635\n",
            "   3.53008382   5.34931825   7.40195145   0.49723515   3.11833995\n",
            "  -3.11804246 -13.76240902 -12.00144433   4.64987773  14.86665899\n",
            " -14.52590283   1.7275049    7.53026259   9.80324484   1.35614704\n",
            "   3.59747941   5.90174836  10.76898749 -11.33131388  12.78546589\n",
            " -14.21947789  10.08599253 -12.6977872   -9.16115365 -14.88317561\n",
            "  -1.64229883  -4.9692232  -10.02021266  -1.46729518  -2.9288735\n",
            "   8.02983098  11.79390918   4.57701755 -11.26768834  -6.13827616\n",
            "  12.3995489  -12.33796521  -2.79432482  13.27513858  13.51994524]\n",
            "shape of sample before is: (50, 28, 28)\n",
            "len(sample.shape) 3\n",
            "angle is: [0.41120318 0.66739689 0.4567456  0.75346054 0.03158133 0.14415715\n",
            " 0.6141988  0.23255226 0.6660523  0.35122293 0.88664556 0.81925939\n",
            " 0.4928378  0.77289509 0.27113789 0.49425978 0.19748205 0.86088617\n",
            " 0.82306762 0.90214967 0.87747698 0.95959626 0.22833623 0.93182429\n",
            " 0.57121319 0.42249508 0.5603739  0.34260236 0.28855301 0.24131434\n",
            " 0.08242799 0.4965649  0.88776168 0.63015197 0.52097563 0.42859292\n",
            " 0.46440163 0.20927735 0.82293588 0.19838296 0.71662276 0.75998501\n",
            " 0.57486904 0.86292637 0.29105035 0.88161722 0.72941046 0.79874983\n",
            " 0.66457971 0.84634302]\n",
            "angle with constraint is: [ -2.66390469   5.02190664  -1.29763205   7.60381618 -14.05256008\n",
            " -10.67528553   3.42596411  -8.02343213   4.98156898  -4.46331218\n",
            "  11.59936674   9.57778157  -0.214866     8.18685261  -6.86586341\n",
            "  -0.1722067   -9.07553844  10.82658506   9.6920285   12.06449005\n",
            "  11.32430944  13.78788786  -8.14991305  12.95472872   2.13639574\n",
            "  -2.32514748   1.81121688  -4.7219293   -6.34340979  -7.76056986\n",
            " -12.52716032  -0.10305309  11.63285027   3.90455908   0.62926898\n",
            "  -2.14221245  -1.06795121  -8.72167957   9.68807632  -9.0485111\n",
            "   6.4986827    7.79955034   2.24607126  10.88779125  -6.26848943\n",
            "  11.44851664   6.88231379   8.96249483   4.93739129  10.39029051]\n",
            "shape of sample before is: (50, 28, 28)\n",
            "len(sample.shape) 3\n",
            "angle is: [0.99309886 0.42016285 0.81391568 0.74457976 0.45287017 0.926949\n",
            " 0.39442593 0.56546592 0.10594236 0.22577519 0.84069617 0.39655272\n",
            " 0.39408409 0.24598102 0.49161033 0.80581696 0.89516412 0.07011443\n",
            " 0.57482073 0.46727337 0.61428185 0.44727569 0.39864482 0.47188071\n",
            " 0.58199913 0.50098321 0.47214445 0.81783531 0.74564799 0.34137849\n",
            " 0.80057712 0.85365067 0.15349221 0.58268246 0.28531199 0.73917232\n",
            " 0.23878533 0.67140352 0.25512466 0.51114376 0.94864647 0.38130754\n",
            " 0.87573849 0.98694458 0.87485085 0.16586603 0.81965822 0.0321494\n",
            " 0.39330188 0.87073337]\n",
            "angle with constraint is: [ 14.79296588  -2.39511436   9.41747051   7.33739279  -1.41389503\n",
            "  12.80846999  -3.16722211   1.96397749 -11.82172929  -8.22674418\n",
            "  10.22088512  -3.10341832  -3.17747732  -7.62056945  -0.25168997\n",
            "   9.17450884  11.85492353 -12.89656704   2.24462194  -0.98179896\n",
            "   3.42845551  -1.58172939  -3.04065537  -0.84357863   2.45997386\n",
            "   0.02949633  -0.83566647   9.5350593    7.36943974  -4.75864517\n",
            "   9.01731353  10.60952007 -10.39523384   2.48047385  -6.44064019\n",
            "   7.17516966  -7.83644012   5.14210573  -7.34626032   0.3343129\n",
            "  13.45939404  -3.56077385  11.27215458  14.60833744  11.24552546\n",
            " -10.02401911   9.58974659 -14.03551815  -3.20094349  11.1220012 ]\n",
            "shape of sample before is: (50, 28, 28)\n",
            "len(sample.shape) 3\n",
            "angle is: [0.68875221 0.53274043 0.38786403 0.81229695 0.7095584  0.46840532\n",
            " 0.89248434 0.22994802 0.17039151 0.64280376 0.97199434 0.24725657\n",
            " 0.24967038 0.13949885 0.86056356 0.22639754 0.50317853 0.99087248\n",
            " 0.0121409  0.55648609 0.51228904 0.80744738 0.35528154 0.41034136\n",
            " 0.16793798 0.74081523 0.78470891 0.13666332 0.39345707 0.892905\n",
            " 0.00270727 0.29875907 0.55504229 0.33409386 0.27204519 0.46003748\n",
            " 0.18152311 0.52962524 0.70669592 0.57529495 0.09310933 0.84440861\n",
            " 0.17497784 0.764812   0.36056511 0.78276135 0.2062729  0.1866621\n",
            " 0.49702585 0.03293601]\n",
            "angle with constraint is: [  5.66256638   0.98221282  -3.36407925   9.36890839   6.28675212\n",
            "  -0.94784041  11.77453012  -8.10155947  -9.88825473   4.28411293\n",
            "  14.15983028  -7.5823028   -7.50988863 -10.81503456  10.81690666\n",
            "  -8.20807379   0.0953558   14.72617434 -14.63577297   1.69458272\n",
            "   0.36867128   9.22342129  -4.34155381  -2.68975923  -9.96186058\n",
            "   7.22445695   8.54126728 -10.90010038  -3.19628778  11.78714986\n",
            " -14.91878179  -6.03722788   1.65126855  -4.97718421  -6.83864432\n",
            "  -1.19887545  -9.55430676   0.88875723   6.20087764   2.25884858\n",
            " -12.20672007  10.33225842  -9.75066488   7.94436002  -4.18304668\n",
            "   8.48284044  -8.8118129   -9.40013689  -0.08922461 -14.01191956]\n",
            "Accuracy after rotation augmentation constrained by  30  is  0.6796\n",
            "shape of sample before is: (50, 28, 28)\n",
            "len(sample.shape) 3\n",
            "angle is: [0.22529734 0.72401225 0.83738348 0.08078536 0.88207771 0.7975172\n",
            " 0.8696843  0.69842855 0.67415307 0.52509323 0.65278722 0.91910966\n",
            " 0.100522   0.31576448 0.07245497 0.94480517 0.44526547 0.67534447\n",
            " 0.84112006 0.99100025 0.16178246 0.79951261 0.8874229  0.04887538\n",
            " 0.75409056 0.35472532 0.64859679 0.5140482  0.25974225 0.13522136\n",
            " 0.11694723 0.10332286 0.63779004 0.35141085 0.21663344 0.69188509\n",
            " 0.68684957 0.53916829 0.93495782 0.38541423 0.83586297 0.07513941\n",
            " 0.73983109 0.98844741 0.84659822 0.57966472 0.62676606 0.35328955\n",
            " 0.67948522 0.77039538]\n",
            "angle with constraint is: [-10.98810645   8.96049009  13.49533913 -16.76858544  15.28310838\n",
            "  11.90068816  14.78737183   7.93714218   6.96612269   1.00372933\n",
            "   6.11148898  16.76438658 -15.97911994  -7.36942089 -17.10180106\n",
            "  17.79220688  -2.18938136   7.01377883  13.64480258  19.64000992\n",
            " -13.52870169  11.98050423  15.49691593 -18.04498493  10.16362241\n",
            "  -5.81098715   5.94387166   0.56192784  -9.61030992 -14.59114552\n",
            " -15.32211068 -15.86708569   5.51160161  -5.94356594 -11.33466247\n",
            "   7.67540371   7.47398263   1.56673169  17.39831267  -4.58343074\n",
            "  13.43451885 -16.99442368   9.59324376  19.53789655  13.86392865\n",
            "   3.18658877   5.07064257  -5.86841802   7.17940873  10.81581533]\n",
            "shape of sample before is: (50, 28, 28)\n",
            "len(sample.shape) 3\n",
            "angle is: [0.99822848 0.49246292 0.06130407 0.59585795 0.11902415 0.24476504\n",
            " 0.32877991 0.73102987 0.18380812 0.16575295 0.04496424 0.87323994\n",
            " 0.69350542 0.03994647 0.02829231 0.5586743  0.2825344  0.59672635\n",
            " 0.43460418 0.92331256 0.28780901 0.67914537 0.05405431 0.95586053\n",
            " 0.98075747 0.73907463 0.46521247 0.21999344 0.81251634 0.7363541\n",
            " 0.22195404 0.45121529 0.46279894 0.82641055 0.68384468 0.64316754\n",
            " 0.64982742 0.27047008 0.37171126 0.04566229 0.78694114 0.43299822\n",
            " 0.43823836 0.24535626 0.20942728 0.58782193 0.23255302 0.06420885\n",
            " 0.76750742 0.37646943]\n",
            "angle with constraint is: [ 19.92913924  -0.30148332 -17.54783737   3.83431803 -15.239034\n",
            " -10.20939826  -6.84880355   9.24119493 -12.64767504 -13.36988213\n",
            " -18.2014303   14.92959745   7.74021697 -18.40214138 -18.86830777\n",
            "   2.34697186  -8.69862395   3.86905402  -2.61583297  16.93250249\n",
            "  -8.4876394    7.16581474 -17.83782754  18.23442137  19.23029872\n",
            "   9.56298516  -1.39150114 -11.20026243  12.50065361   9.45416389\n",
            " -11.12183842  -1.95138823  -1.48804249  13.056422     7.35378737\n",
            "   5.72670174   5.9930969   -9.18119682  -5.13154961 -18.17350858\n",
            "  11.47764543  -2.68007139  -2.47046572 -10.1857494  -11.62290874\n",
            "   3.51287718 -10.69787939 -17.43164594  10.70029664  -4.94122262]\n",
            "shape of sample before is: (50, 28, 28)\n",
            "len(sample.shape) 3\n",
            "angle is: [0.38023558 0.43131828 0.81504482 0.3208369  0.75803621 0.93954484\n",
            " 0.6608682  0.43168108 0.74778972 0.45789737 0.41442727 0.52528316\n",
            " 0.31772233 0.10425022 0.41485201 0.12385688 0.41044147 0.55693372\n",
            " 0.93071118 0.03622233 0.62145841 0.45773519 0.02026113 0.24954818\n",
            " 0.11848525 0.21679415 0.27457024 0.40130634 0.52903939 0.00098999\n",
            " 0.16186936 0.09356639 0.5496734  0.32907487 0.54839774 0.2218233\n",
            " 0.02422935 0.9413669  0.10830812 0.12685875 0.14654683 0.98127652\n",
            " 0.61766024 0.61028995 0.9866982  0.08843877 0.97450089 0.20401315\n",
            " 0.6230715  0.42008357]\n",
            "angle with constraint is: [ -4.79057664  -2.74726874  12.60179294  -7.16652416  10.32144845\n",
            "  17.58179363   6.43472784  -2.73275675   9.91158893  -1.68410521\n",
            "  -3.42290916   1.01132654  -7.29110661 -15.82999135  -3.40591978\n",
            " -15.04572475  -3.58234106   2.27734885  17.22844725 -18.55110676\n",
            "   4.85833626  -1.69059253 -19.18955487 -10.01807296 -15.26058991\n",
            " -11.32823417  -9.01719026  -3.94774658   1.16157574 -19.96040024\n",
            " -13.52522557 -16.25734458   1.98693597  -6.83700518   1.93590944\n",
            " -11.12706791 -19.03082584  17.65467605 -15.66767515 -14.92565008\n",
            " -14.13812694  19.25106096   4.70640961   4.41159807  19.46792806\n",
            " -16.46244923  18.9800357  -11.83947414   4.92286014  -3.19665739]\n",
            "shape of sample before is: (50, 28, 28)\n",
            "len(sample.shape) 3\n",
            "angle is: [0.38395181 0.93124333 0.14922773 0.99706901 0.37912506 0.6487749\n",
            " 0.96790673 0.05760105 0.92286436 0.56781139 0.70439688 0.14918418\n",
            " 0.53338743 0.67351371 0.45624731 0.15498518 0.24411908 0.85439279\n",
            " 0.03447099 0.70886208 0.99939004 0.007483   0.16104568 0.6741443\n",
            " 0.05999083 0.58978998 0.6840001  0.58814635 0.3651847  0.6972823\n",
            " 0.59429443 0.20763717 0.56313554 0.88190722 0.66683329 0.47179151\n",
            " 0.3215841  0.08588621 0.24462713 0.01118675 0.98662592 0.22248225\n",
            " 0.81487594 0.16864488 0.28360115 0.41827732 0.32440566 0.79835081\n",
            " 0.95769341 0.87529448]\n",
            "angle with constraint is: [ -4.64192746  17.24973314 -14.03089086  19.88276044  -4.83499756\n",
            "   5.95099616  18.71626926 -17.69595798  16.91457452   2.71245541\n",
            "   8.17587516 -14.03263264   1.33549723   6.94054859  -1.7501077\n",
            " -13.80059288 -10.235237    14.17571164 -18.62116029   8.35448314\n",
            "  19.97560146 -19.70068016 -13.55817269   6.96577204 -17.60036662\n",
            "   3.59159935   7.36000414   3.52585392  -5.39261188   7.89129184\n",
            "   3.77177712 -11.69451312   2.52542174  15.27628869   6.67333143\n",
            "  -1.1283397   -7.13663589 -16.56455162 -10.21491469 -19.55252988\n",
            "  19.4650367  -11.10070991  12.59503771 -13.25420473  -8.65595402\n",
            "  -3.26890723  -7.02377343  11.93403251  18.30773632  15.01177935]\n",
            "shape of sample before is: (50, 28, 28)\n",
            "len(sample.shape) 3\n",
            "angle is: [0.15357787 0.77668868 0.14794691 0.91338111 0.51787858 0.33638109\n",
            " 0.1570255  0.01180909 0.24794699 0.91402006 0.79726219 0.96979371\n",
            " 0.10076152 0.59217874 0.25715047 0.54294171 0.32045489 0.28346555\n",
            " 0.5738453  0.18331816 0.46913344 0.65081227 0.12818207 0.93059427\n",
            " 0.5057247  0.81952797 0.65390543 0.71000094 0.71613094 0.8750999\n",
            " 0.61360544 0.27821715 0.09950964 0.60625062 0.0663528  0.24129345\n",
            " 0.06070718 0.54888759 0.16033812 0.61040732 0.79086513 0.82188072\n",
            " 0.30954351 0.54895453 0.56301076 0.47288718 0.65511389 0.21008712\n",
            " 0.97924324 0.09807983]\n",
            "angle with constraint is: [-13.85688532  11.06754705 -14.08212347  16.53524426   0.71514303\n",
            "  -6.54475648 -13.71898011 -19.52763647 -10.08212033  16.56080253\n",
            "  11.89048769  18.79174831 -15.96953916   3.68714974  -9.71398104\n",
            "   1.71766823  -7.18180458  -8.66137799   2.95381208 -12.66727353\n",
            "  -1.23466252   6.0324906  -14.87271707  17.22377084   0.22898798\n",
            "  12.78111888   6.15621722   8.40003765   8.64523764  15.00399588\n",
            "   4.5442174   -8.87131393 -16.01961429   4.25002478 -17.34588785\n",
            " -10.34826193 -17.57171262   1.95550356 -13.586475     4.41629278\n",
            "  11.63460523  12.87522883  -7.61825967   1.95818131   2.5204304\n",
            "  -1.08451271   6.20455566 -11.59651505  19.16972958 -16.07680692]\n",
            "Accuracy after rotation augmentation constrained by  40  is  0.6721\n",
            "shape of sample before is: (50, 28, 28)\n",
            "len(sample.shape) 3\n",
            "angle is: [0.82922114 0.59409599 0.24485475 0.745675   0.0844809  0.77441783\n",
            " 0.58998522 0.11075032 0.07950556 0.75083633 0.29293591 0.88930185\n",
            " 0.76207302 0.69819024 0.27860605 0.70894452 0.94814768 0.09155983\n",
            " 0.32616264 0.23467227 0.39325013 0.74233265 0.47424258 0.57073061\n",
            " 0.31415489 0.14128927 0.26693365 0.8596803  0.60241696 0.37798867\n",
            " 0.78990598 0.06445743 0.25389109 0.23010315 0.98536456 0.70609858\n",
            " 0.61778594 0.00498497 0.18431    0.63554129 0.37971933 0.92428038\n",
            " 0.76472422 0.44738407 0.74951498 0.97540432 0.46098082 0.64252589\n",
            " 0.91866462 0.24867466]\n",
            "angle with constraint is: [ 16.46105706   4.70479935 -12.75726264  12.28375003 -20.77595522\n",
            "  13.72089172   4.49926111 -19.46248408 -21.02472185  12.54181667\n",
            " -10.35320467  19.46509254  13.10365105   9.90951224 -11.06969737\n",
            "  10.44722595  22.40738423 -20.42200828  -8.6918679  -13.26638673\n",
            "  -5.33749328  12.11663274  -1.28787093   3.53653031  -9.2922556\n",
            " -17.93553665 -11.65331755  17.98401506   5.12084811  -6.10056634\n",
            "  14.49529909 -21.77712838 -12.3054456  -13.4948423   24.26822811\n",
            "  10.30492912   5.88929682 -24.75075174 -15.7844999    6.77706465\n",
            "  -6.01403368  21.21401918  13.23621096  -2.63079636  12.47574888\n",
            "  23.77021619  -1.95095876   7.12629439  20.93323075 -12.5662669 ]\n",
            "shape of sample before is: (50, 28, 28)\n",
            "len(sample.shape) 3\n",
            "angle is: [0.88655791 0.09754471 0.64844817 0.78283816 0.61460622 0.4955348\n",
            " 0.6173471  0.15166371 0.21557071 0.26989934 0.59777934 0.44190107\n",
            " 0.24447584 0.88280933 0.37392184 0.44603172 0.40970108 0.18194296\n",
            " 0.73162702 0.44845826 0.01625711 0.9640137  0.81576361 0.72355935\n",
            " 0.86909187 0.90680725 0.33748971 0.61095868 0.60880781 0.26729967\n",
            " 0.22195225 0.11390725 0.6593142  0.78091899 0.76095298 0.31627538\n",
            " 0.20525985 0.45361418 0.54681346 0.91908713 0.87482315 0.91605833\n",
            " 0.85026239 0.9645812  0.4655     0.0474735  0.08356203 0.39027614\n",
            " 0.25768709 0.16994059]\n",
            "angle with constraint is: [ 19.32789568 -20.12276466   7.42240853  14.14190775   5.73031096\n",
            "  -0.22325979   5.867355   -17.41681456 -14.22146448 -11.5050328\n",
            "   4.88896703  -2.90494631 -12.77620788  19.14046661  -6.30390799\n",
            "  -2.69841404  -4.51494617 -15.90285224  11.58135077  -2.57708689\n",
            " -24.18714451  23.20068512  15.78818058  11.1779677   18.45459353\n",
            "  20.34036268  -8.12551468   5.54793392   5.44039046 -11.63501656\n",
            " -13.90238743 -19.30463726   7.9657098   14.04594955  13.04764898\n",
            "  -9.18623114 -14.73700748  -2.31929108   2.34067301  20.9543564\n",
            "  18.74115771  20.80291657  17.51311926  23.22906022  -1.72500014\n",
            " -22.62632513 -20.82189839  -5.48619291 -12.11564544 -16.50297043]\n",
            "shape of sample before is: (50, 28, 28)\n",
            "len(sample.shape) 3\n",
            "angle is: [0.95320377 0.19541959 0.95937927 0.76083884 0.64094567 0.67601896\n",
            " 0.33147432 0.64642704 0.18669212 0.93770543 0.30179334 0.25518651\n",
            " 0.7111628  0.65644872 0.45129892 0.63244623 0.15949307 0.67332831\n",
            " 0.2706107  0.27283598 0.16217993 0.33237714 0.33125106 0.45417901\n",
            " 0.1904195  0.19300754 0.54173857 0.1288774  0.68889701 0.94394713\n",
            " 0.42679562 0.90110531 0.09831659 0.04295763 0.72136888 0.76102157\n",
            " 0.84305824 0.05681768 0.77690705 0.37653873 0.30333763 0.17302392\n",
            " 0.99601576 0.06366359 0.82700801 0.63949444 0.73508044 0.71171712\n",
            " 0.85843449 0.18379207]\n",
            "angle with constraint is: [ 22.66018873 -15.22902058  22.96896362  13.04194202   7.04728361\n",
            "   8.800948    -8.42628382   7.3213519  -15.66539409  21.88527163\n",
            "  -9.910333   -12.24067439  10.55813991   7.8224359   -2.43505408\n",
            "   6.62231173 -17.02534641   8.66641537 -11.46946524 -11.35820117\n",
            " -16.89100325  -8.38114325  -8.43744698  -2.29104941 -15.47902477\n",
            " -15.34962319   2.08692858 -18.55612977   9.4448504   22.19735629\n",
            "  -3.66021892  20.05526566 -20.08417044 -22.85211863  11.06844388\n",
            "  13.05107865  17.15291205 -22.15911608  13.84535275  -6.17306336\n",
            "  -9.83311837 -16.34880393  24.80078776 -21.81682053  16.35040073\n",
            "   6.97472177  11.75402221  10.585856    17.92172425 -15.81039651]\n",
            "shape of sample before is: (50, 28, 28)\n",
            "len(sample.shape) 3\n",
            "angle is: [8.24616835e-04 5.98528489e-01 3.53858639e-01 1.23787331e-01\n",
            " 1.86138754e-01 3.31749312e-01 7.02333709e-02 5.69132021e-02\n",
            " 9.16026255e-01 3.12102749e-01 9.82230697e-01 9.64367008e-01\n",
            " 1.42571282e-01 7.14924303e-01 6.00804889e-01 6.90647073e-01\n",
            " 9.61910000e-02 1.88560079e-01 7.66386615e-02 6.04134205e-01\n",
            " 9.86591076e-01 6.71984538e-01 7.10761535e-01 9.84585042e-01\n",
            " 6.78011554e-01 4.01815726e-02 8.67005601e-01 3.64678290e-01\n",
            " 4.36362151e-03 5.07234178e-01 9.37015001e-01 2.57330687e-01\n",
            " 4.91513173e-01 1.73776888e-01 5.76926717e-02 8.05449467e-02\n",
            " 7.27010906e-01 8.64074471e-01 1.43298839e-01 2.88318568e-01\n",
            " 1.95029468e-01 2.68557769e-02 5.53431370e-01 6.99922170e-01\n",
            " 6.47877481e-01 3.88053547e-01 5.55010246e-01 9.40993066e-02\n",
            " 1.54303719e-01 9.31794620e-01]\n",
            "angle with constraint is: [-24.95876916   4.92642445  -7.30706803 -18.81063344 -15.69306229\n",
            "  -8.41253438 -21.48833146 -22.15433989  20.80131274  -9.39486253\n",
            "  24.11153487  23.21835042 -17.87143588  10.74621514   5.04024446\n",
            "   9.53235366 -20.19045    -15.57199607 -21.16806693   5.20671026\n",
            "  24.32955379   8.59922688  10.53807675  24.22925208   8.90057771\n",
            " -22.99092137  18.35028004  -6.76608548 -24.78181892   0.36170888\n",
            "  21.85075004 -12.13346564  -0.42434135 -16.31115561 -22.11536642\n",
            " -20.97275266  11.3505453   18.20372354 -17.83505804 -10.58407161\n",
            " -15.24852662 -23.65721115   2.67156849   9.99610851   7.39387404\n",
            "  -5.59732263   2.7505123  -20.29503467 -17.28481406  21.58973098]\n",
            "shape of sample before is: (50, 28, 28)\n",
            "len(sample.shape) 3\n",
            "angle is: [0.76150775 0.9227391  0.91668028 0.64939262 0.92823865 0.4167041\n",
            " 0.00361624 0.06257112 0.10948733 0.09535345 0.35170239 0.70127081\n",
            " 0.79064881 0.59021327 0.14643617 0.7479016  0.35480192 0.01299335\n",
            " 0.28058862 0.33060055 0.27424554 0.81187015 0.7599264  0.69555203\n",
            " 0.13900508 0.80783391 0.67717596 0.19483769 0.64809393 0.48351164\n",
            " 0.43935006 0.11212316 0.51830428 0.09993181 0.16425339 0.13254631\n",
            " 0.95410828 0.28486469 0.35520432 0.32208061 0.89825045 0.56296591\n",
            " 0.9191599  0.29992491 0.11483467 0.55621845 0.34553699 0.80190683\n",
            " 0.87942341 0.47257351]\n",
            "angle with constraint is: [ 13.07538739  21.13695479  20.83401422   7.46963086  21.41193241\n",
            "  -4.16479485 -24.81918776 -21.87144421 -19.52563371 -20.23232734\n",
            "  -7.41488046  10.06354036  14.53244033   4.51066372 -17.67819127\n",
            "  12.39508011  -7.25990404 -24.35033257 -10.97056897  -8.46997229\n",
            " -11.28772324  15.59350766  12.99631988   9.77760152 -18.04974607\n",
            "  15.39169549   8.85879808 -15.25811568   7.40469651  -0.82441795\n",
            "  -3.03249691 -19.39384183   0.91521379 -20.00340955 -16.78733064\n",
            " -18.37268429  22.70541395 -10.75676548  -7.23978382  -8.89596969\n",
            "  19.91252226   3.14829557  20.95799495 -10.00375471 -19.25826628\n",
            "   2.81092264  -7.72315041  15.09534167  18.97117045  -1.37132445]\n",
            "Accuracy after rotation augmentation constrained by  50  is  0.6758\n",
            "shape of sample before is: (50, 28, 28)\n",
            "len(sample.shape) 3\n",
            "angle is: [0.97135902 0.55301301 0.27092039 0.48897552 0.03731029 0.80400116\n",
            " 0.10143505 0.30874849 0.56531655 0.04297513 0.0793169  0.69611636\n",
            " 0.07177709 0.47708287 0.33869563 0.22807941 0.1887789  0.76341129\n",
            " 0.95154219 0.14017974 0.95968122 0.5947625  0.64166041 0.70992638\n",
            " 0.70411889 0.81981111 0.48346865 0.53335859 0.323827   0.10525759\n",
            " 0.66464019 0.03360997 0.27563505 0.09422986 0.19072716 0.63873091\n",
            " 0.62847663 0.42105491 0.09017198 0.43337392 0.35274487 0.72045915\n",
            " 0.57902661 0.49156577 0.48698208 0.96629689 0.75629422 0.49697956\n",
            " 0.47922261 0.0264791 ]\n",
            "angle with constraint is: [ 28.28154145   3.18078038 -13.7447764   -0.66146908 -27.76138246\n",
            "  18.24006962 -23.91389695 -11.47509069   3.91899282 -27.42149246\n",
            " -25.24098605  11.76698146 -25.69337442  -1.37502803  -9.67826199\n",
            " -16.31523552 -18.67326613  15.80467762  27.09253159 -21.58921547\n",
            "  27.58087315   5.68575021   8.49962432  12.59558269  12.24713342\n",
            "  19.18866649  -0.99188092   2.00151525 -10.57037985 -23.68454437\n",
            "   9.87841146 -27.98340185 -13.46189693 -24.34620813 -18.55637056\n",
            "   8.32385477   7.70859781  -4.73670522 -24.58968141  -3.99756501\n",
            "  -8.83530769  13.22754917   4.74159649  -0.50605396  -0.78107506\n",
            "  27.97781324  15.3776533   -0.18122637  -1.24664323 -28.41125392]\n",
            "shape of sample before is: (50, 28, 28)\n",
            "len(sample.shape) 3\n",
            "angle is: [0.94250926 0.31917397 0.25593908 0.99940893 0.71868967 0.04736377\n",
            " 0.06188548 0.02550156 0.5996189  0.0715645  0.93338836 0.93690654\n",
            " 0.54605407 0.61663893 0.2918944  0.06397254 0.73746045 0.10178599\n",
            " 0.08555764 0.31122311 0.01246566 0.43403562 0.70768091 0.80134893\n",
            " 0.6043073  0.8468742  0.4065022  0.84877209 0.50647331 0.22303613\n",
            " 0.94414565 0.27497087 0.02620148 0.24267404 0.36668756 0.35134968\n",
            " 0.52466751 0.88312688 0.29233823 0.52077061 0.34013895 0.82177306\n",
            " 0.15760151 0.10351027 0.50299525 0.67188759 0.7955252  0.58962485\n",
            " 0.77384976 0.39271006]\n",
            "angle with constraint is: [ 26.5505558  -10.84956169 -14.64365509  29.96453552  13.12138029\n",
            " -27.1581736  -26.28687138 -28.46990616   5.97713397 -25.70613\n",
            "  26.00330141  26.2143924    2.763244     6.99833588 -12.48633591\n",
            " -26.16164746  14.24762671 -23.89284068 -24.86654154 -11.32661345\n",
            " -29.25206041  -3.95786305  12.4608546   18.08093589   6.25843823\n",
            "  20.81245219  -5.60986777  20.9263251    0.38839863 -16.61783232\n",
            "  26.6487388  -13.50174757 -28.42791095 -15.43955742  -7.99874632\n",
            "  -8.919019     1.48005057  22.98761292 -12.45970637   1.24623648\n",
            "  -9.59166278  19.30638356 -20.5439092  -23.7893839    0.17971519\n",
            "  10.31325515  17.73151207   5.37749117  16.43098568  -6.43739649]\n",
            "shape of sample before is: (50, 28, 28)\n",
            "len(sample.shape) 3\n",
            "angle is: [0.03286767 0.11609931 0.0387226  0.32894365 0.49549134 0.35631748\n",
            " 0.56059948 0.48060915 0.6779428  0.66696216 0.31806415 0.34621446\n",
            " 0.58514782 0.59643247 0.31469991 0.33031789 0.69404501 0.64741082\n",
            " 0.1350508  0.44104188 0.89270608 0.03630568 0.85516395 0.16317816\n",
            " 0.50724863 0.42433643 0.01012934 0.91539694 0.45492523 0.95426828\n",
            " 0.2867439  0.86627577 0.92238957 0.55683242 0.20267779 0.68524743\n",
            " 0.54897807 0.94452967 0.43927206 0.26851365 0.138287   0.69863357\n",
            " 0.97410962 0.02834377 0.74044535 0.92693036 0.07478153 0.11017005\n",
            " 0.6919571  0.64796338]\n",
            "angle with constraint is: [-28.02793978 -23.03404153 -27.67664393 -10.26338097  -0.27051952\n",
            "  -8.62095098   3.6359685   -1.16345109  10.67656811  10.01772981\n",
            " -10.91615117  -9.22713268   5.1088693    5.78594807 -11.11800518\n",
            " -10.18092685  11.64270079   8.84464937 -21.89695172  -3.53748722\n",
            "  23.56236472 -27.82165943  21.30983679 -20.20931058   0.43491795\n",
            "  -4.53981426 -29.39223976  24.92381623  -2.70448636  27.25609661\n",
            " -12.79536594  21.9765464   25.34337444   3.40994498 -17.83933273\n",
            "  11.11484593   2.93868399  26.67177995  -3.64367629 -13.88918114\n",
            " -21.70277991  11.91801412  28.44657714 -28.29937377  14.42672129\n",
            "  25.61582175 -25.51310795 -23.38979729  11.51742591   8.87780255]\n",
            "shape of sample before is: (50, 28, 28)\n",
            "len(sample.shape) 3\n",
            "angle is: [0.06882742 0.83442275 0.52342385 0.90719737 0.87799088 0.81250777\n",
            " 0.5158989  0.25171064 0.5059755  0.10081138 0.65884615 0.13397722\n",
            " 0.51117296 0.05438197 0.29951249 0.23208046 0.62003154 0.78678671\n",
            " 0.05730295 0.85028369 0.86076769 0.34226907 0.65900407 0.40261303\n",
            " 0.15419088 0.52866242 0.08635967 0.87847216 0.92428976 0.82161314\n",
            " 0.56252812 0.55759859 0.98460738 0.24790169 0.07594837 0.56194092\n",
            " 0.3287856  0.32233877 0.00708535 0.59623941 0.2640337  0.18785855\n",
            " 0.04043193 0.36436158 0.87896887 0.33667081 0.67907421 0.75654696\n",
            " 0.32810081 0.82164074]\n",
            "angle with constraint is: [-25.87035508  20.06536513   1.40543087  24.4318424   22.67945286\n",
            "  18.75046614   0.95393377 -14.8973615    0.35853023 -23.95131733\n",
            "   9.53076891 -21.96136685   0.67037775 -26.73708155 -12.02925058\n",
            " -16.07517236   7.20189256  17.20720272 -26.56182273  21.01702111\n",
            "  21.6460617   -9.46385554   9.54024396  -5.8432181  -20.74854707\n",
            "   1.71974511 -24.81841953  22.70832932  25.45738556  19.29678822\n",
            "   3.75168725   3.45591547  29.0764426  -15.12589861 -25.44309805\n",
            "   3.71645542 -10.27286413 -10.65967363 -29.57487875   5.77436457\n",
            " -14.15797786 -18.72848711 -27.57408412  -8.13830541  22.73813234\n",
            "  -9.79975154  10.74445261  15.3928178  -10.31395145  19.2984441 ]\n",
            "shape of sample before is: (50, 28, 28)\n",
            "len(sample.shape) 3\n",
            "angle is: [0.69187966 0.55924223 0.00099246 0.03509077 0.99086584 0.78228392\n",
            " 0.93756526 0.9023032  0.02044298 0.79184729 0.45114574 0.7895582\n",
            " 0.00671578 0.2881993  0.75132378 0.79302079 0.6197146  0.30125619\n",
            " 0.31036259 0.96676396 0.43921218 0.44712555 0.55233275 0.40950234\n",
            " 0.55267156 0.43233542 0.82671492 0.90905102 0.93211026 0.56429621\n",
            " 0.44214856 0.70524006 0.83832359 0.56298224 0.69998102 0.74972935\n",
            " 0.67639378 0.74613356 0.20864533 0.49837455 0.58826855 0.00247793\n",
            " 0.85596251 0.61002451 0.12913633 0.81635707 0.71705697 0.75829954\n",
            " 0.39204246 0.85420251]\n",
            "angle with constraint is: [ 11.51277958   3.55453372 -29.94045216 -27.89455404  29.45195065\n",
            "  16.93703541  26.25391553  24.1381923  -28.77342101  17.51083739\n",
            "  -2.93125536  17.37349224 -29.59705295 -12.70804193  15.07942655\n",
            "  17.58124732   7.18287607 -11.92462863 -11.37824452  28.00583782\n",
            "  -3.64726925  -3.17246699   3.13996501  -5.42985979   3.16029388\n",
            "  -4.05987463  19.60289518  24.54306119  25.92661559   3.85777235\n",
            "  -3.47108655  12.31440353  20.29941548   3.77893452  11.99886131\n",
            "  14.98376104  10.5836266   14.76801334 -17.48128005  -0.09752718\n",
            "   5.29611328 -29.85132415  21.35775053   6.60147051 -22.2518201\n",
            "  18.98142435  13.02341799  15.49797261  -6.47745229  21.2521504 ]\n",
            "Accuracy after rotation augmentation constrained by  60  is  0.6632\n",
            "shape of sample before is: (50, 28, 28)\n",
            "len(sample.shape) 3\n",
            "angle is: [4.14027582e-01 5.70509153e-01 6.42303700e-04 6.44873115e-01\n",
            " 7.18175792e-01 5.67109365e-01 4.96558817e-01 8.09936474e-01\n",
            " 6.81372717e-01 2.78074040e-01 9.59073338e-01 7.07267194e-01\n",
            " 9.87938929e-01 9.71261316e-01 9.18909723e-01 7.55371541e-01\n",
            " 6.09429368e-01 1.72170664e-01 5.43351417e-01 7.65376522e-01\n",
            " 5.20857159e-01 8.68239128e-01 1.09655899e-01 3.80940348e-01\n",
            " 5.05964419e-01 4.32325296e-01 1.08586548e-01 1.53528294e-01\n",
            " 8.37617293e-01 4.84384259e-01 4.87224268e-02 1.64912590e-02\n",
            " 4.73475402e-01 1.64378726e-01 7.05125946e-01 7.95323463e-01\n",
            " 2.28296708e-01 5.92176945e-01 1.54444643e-01 3.03582652e-01\n",
            " 8.88795494e-01 5.44098091e-01 8.85888695e-01 2.25247804e-01\n",
            " 3.30024343e-01 4.70952138e-01 4.80080075e-01 9.97647967e-01\n",
            " 1.14445319e-01 8.51965036e-01]\n",
            "angle with constraint is: [ -6.01806925   4.93564071 -34.95503874  10.14111803  15.27230545\n",
            "   4.69765558  -0.24088281  21.69555316  12.6960902  -15.53481722\n",
            "  32.13513367  14.50870359  34.15572502  32.98829214  29.3236806\n",
            "  17.87600789   7.66005579 -22.94805354   3.03459922  18.57635657\n",
            "   1.46000111  25.77673899 -27.32408706  -8.33417564   0.4175093\n",
            "  -4.73722929 -27.39894165 -24.25301942  23.6332105   -1.09310186\n",
            " -31.58943013 -33.84561187  -1.85672186 -23.49348919  14.35881622\n",
            "  20.67264238 -19.01923041   6.45238614 -24.18887496 -13.74921439\n",
            "  27.21568459   3.0868664   27.01220866 -19.23265371 -11.89829597\n",
            "  -2.03335031  -1.39439474  34.8353577  -26.98882767  24.63755249]\n",
            "shape of sample before is: (50, 28, 28)\n",
            "len(sample.shape) 3\n",
            "angle is: [0.86368204 0.55319863 0.34403717 0.5192261  0.2924677  0.79910745\n",
            " 0.49827916 0.92584218 0.62269134 0.51431933 0.71106935 0.50393296\n",
            " 0.90450635 0.18444596 0.97334868 0.81219055 0.86073336 0.48290783\n",
            " 0.83720155 0.30677408 0.76194818 0.14045016 0.30705192 0.44573266\n",
            " 0.32231972 0.38701712 0.82010474 0.25667589 0.74528117 0.07371207\n",
            " 0.76573911 0.79202324 0.40169878 0.72247782 0.9151384  0.80071297\n",
            " 0.39044651 0.48421351 0.77935754 0.29259459 0.80388274 0.32807114\n",
            " 0.80599058 0.08680044 0.0443973  0.99767545 0.86945712 0.8828475\n",
            " 0.95127995 0.43831631]\n",
            "angle with constraint is: [ 25.45774276   3.72390421 -10.91739822   1.3458273  -14.52726066\n",
            "  20.93752139  -0.12045889  29.80895252   8.5883941    1.00235332\n",
            "  14.77485478   0.27530751  28.31544453 -22.08878274  33.13440786\n",
            "  21.85333863  25.25133533  -1.19645173  23.60410845 -13.52581415\n",
            "  18.3363725  -25.16848891 -13.50636588  -3.79871356 -12.43761973\n",
            "  -7.90880191  22.40733213 -17.03268755  17.16968205 -29.84015516\n",
            "  18.60173753  20.441627    -6.88108571  15.57344762  29.05968826\n",
            "  21.04990815  -7.66874427  -1.105054    19.55502814 -14.51837871\n",
            "  21.27179182 -12.03502002  21.41934077 -28.92396897 -31.89218922\n",
            "  34.83728132  25.86199863  26.79932524  31.58959633  -4.31785834]\n",
            "shape of sample before is: (50, 28, 28)\n",
            "len(sample.shape) 3\n",
            "angle is: [0.28683555 0.130025   0.50120913 0.22004832 0.93555086 0.00400316\n",
            " 0.14319674 0.24647585 0.19895671 0.22577844 0.65604761 0.32751208\n",
            " 0.61502438 0.89025793 0.60255677 0.69453279 0.3655033  0.15973847\n",
            " 0.32058406 0.96428265 0.62181138 0.27751112 0.45091527 0.83551304\n",
            " 0.66844357 0.56065284 0.88516288 0.67243957 0.64272973 0.18976814\n",
            " 0.10638868 0.96514212 0.59885837 0.41568341 0.58902082 0.06181196\n",
            " 0.82212727 0.21664554 0.80454601 0.53437844 0.27657201 0.03020995\n",
            " 0.81583336 0.17646014 0.05180512 0.75587773 0.35004322 0.38933401\n",
            " 0.24706759 0.85917848]\n",
            "angle with constraint is: [-14.92151117 -25.89825035   0.08463935 -19.59661757  30.48855997\n",
            " -34.71977863 -24.97622836 -17.74669028 -21.07303019 -19.19550944\n",
            "  10.92333235 -12.07415452   8.05170673  27.31805536   7.17897359\n",
            "  13.61729539  -9.41476912 -23.81830727 -12.55911563  32.49978541\n",
            "   8.52679691 -15.57422164  -3.4359313   23.48591262  11.79104995\n",
            "   4.24569885  26.96140136  12.07077006   9.99108116 -21.7162304\n",
            " -27.55279219  32.55994819   6.92008591  -5.90216136   6.23145746\n",
            " -30.67316272  22.54890917 -19.83481251  21.31822044   2.40649103\n",
            " -15.63995904 -32.88530362  22.10833487 -22.6477901  -31.37364191\n",
            "  17.91144116 -10.49697443  -7.74661961 -17.70526889  25.14249351]\n",
            "shape of sample before is: (50, 28, 28)\n",
            "len(sample.shape) 3\n",
            "angle is: [0.29732953 0.21019257 0.30924973 0.20314958 0.31765522 0.08293622\n",
            " 0.15853003 0.41705288 0.87946686 0.05729075 0.21267471 0.90834568\n",
            " 0.89001467 0.67945083 0.24047355 0.41981056 0.21122099 0.12858851\n",
            " 0.37999839 0.57582161 0.35993268 0.61082455 0.29625474 0.34585053\n",
            " 0.79067359 0.87831473 0.32203408 0.5715158  0.27816228 0.05333464\n",
            " 0.73785718 0.17100348 0.42571252 0.48704549 0.18447158 0.09455535\n",
            " 0.34801301 0.95228591 0.61513559 0.38141023 0.03891082 0.60027328\n",
            " 0.09225764 0.54254407 0.75195051 0.42358535 0.29941149 0.04738423\n",
            " 0.02477788 0.43002657]\n",
            "angle with constraint is: [-14.18693317 -20.28652012 -13.35251916 -20.77952974 -12.76413454\n",
            " -29.1944644  -23.90289796  -5.80629816  26.56267989 -30.98964773\n",
            " -20.11277053  28.58419729  27.30102719  12.56155833 -18.16685121\n",
            "  -5.61326073 -20.21453039 -25.99880436  -8.40011238   5.30751235\n",
            "  -9.80471272   7.75771853 -14.26216852 -10.79046306  20.34715142\n",
            "  26.48203116 -12.45761429   5.00610609 -15.52864013 -31.26657508\n",
            "  16.6500027  -23.02975617  -5.20012334  -0.90681546 -22.08698911\n",
            " -28.38112545 -10.63908897  31.66001353   8.0594913   -8.30128401\n",
            " -32.27624255   7.0191297  -28.54196513   2.97808497  17.63653558\n",
            "  -5.34902562 -14.04119536 -31.68310363 -33.26554874  -4.89814012]\n",
            "shape of sample before is: (50, 28, 28)\n",
            "len(sample.shape) 3\n",
            "angle is: [0.88334527 0.24406278 0.57405551 0.68430582 0.06082987 0.15310038\n",
            " 0.33127679 0.67009317 0.43903511 0.73419507 0.86759787 0.75837228\n",
            " 0.99224721 0.75436107 0.8521792  0.83236636 0.73026576 0.80180182\n",
            " 0.93468323 0.47520738 0.63828702 0.51493972 0.85103699 0.4313596\n",
            " 0.81972677 0.79935458 0.9618861  0.2489207  0.70961951 0.7569195\n",
            " 0.93627849 0.90690242 0.57352586 0.57915319 0.16729123 0.9749627\n",
            " 0.25501746 0.72473622 0.795795   0.4412155  0.21119372 0.18896038\n",
            " 0.856496   0.51075649 0.09013698 0.71701947 0.25017105 0.87639475\n",
            " 0.30957179 0.20027083]\n",
            "angle with constraint is: [ 26.83416895 -17.91560548   5.1838854   12.90140738 -30.74190927\n",
            " -24.28297369 -11.81062446  11.90652219  -4.26754214  16.39365478\n",
            "  25.73185059  18.08605936  34.45730451  17.80527481  24.65254365\n",
            "  23.26564509  16.11860336  21.12612717  30.42782595  -1.7354835\n",
            "   9.68009167   1.04578051  24.5725891   -4.8048278   22.38087398\n",
            "  20.95482025  32.3320271  -17.57555105  14.67336569  17.98436484\n",
            "  30.5394945   28.48316926   5.14681032   5.54072301 -23.28961401\n",
            "  33.24738917 -17.14877761  15.73153529  20.70565034  -4.11491468\n",
            " -20.2164396  -21.7727731   24.95472006   0.75295407 -28.69041126\n",
            "  15.19136309 -17.4880263   26.34763255 -13.32997498 -20.98104189]\n",
            "Accuracy after rotation augmentation constrained by  70  is  0.6621\n",
            "shape of sample before is: (50, 28, 28)\n",
            "len(sample.shape) 3\n",
            "angle is: [0.08485844 0.51153114 0.45073759 0.75131214 0.46460259 0.34381597\n",
            " 0.26165492 0.27814675 0.9278479  0.1650786  0.98817642 0.32691946\n",
            " 0.08839024 0.24869038 0.05841438 0.79002977 0.51255291 0.33698662\n",
            " 0.6620496  0.63064653 0.93987209 0.96126052 0.68068378 0.81781593\n",
            " 0.7924251  0.49130353 0.70445829 0.07825901 0.75802108 0.96183301\n",
            " 0.08497475 0.83611578 0.93298003 0.22618889 0.52481119 0.92785823\n",
            " 0.960226   0.12788238 0.34900423 0.69814464 0.2215585  0.32477063\n",
            " 0.02329106 0.15352168 0.56232949 0.65309007 0.64891183 0.77836047\n",
            " 0.41528141 0.27349072]\n",
            "angle with constraint is: [-33.21132452   0.92249093  -3.94099297  20.10497157  -2.83179302\n",
            " -12.49472249 -19.06760675 -17.74826036  34.22783215 -26.79371183\n",
            "  39.05411396 -13.84644358 -32.92878117 -20.10476954 -35.32684964\n",
            "  23.20238153   1.004233   -13.04107049  12.96396837  10.45172208\n",
            "  35.18976714  36.90084134  14.45470205  25.42527418  23.39400803\n",
            "  -0.69571738  16.35666304 -33.73927939  20.64168665  36.94664058\n",
            " -33.20201975  26.88926277  34.63840213 -21.90488882   1.98489501\n",
            "  34.22865804  36.81808036 -29.76940925 -12.07966196  15.85157129\n",
            " -22.27532005 -14.01834971 -38.1367152  -27.71826553   4.98635955\n",
            "  12.2472053   11.91294649  22.26883766  -6.7774869  -18.1207427 ]\n",
            "shape of sample before is: (50, 28, 28)\n",
            "len(sample.shape) 3\n",
            "angle is: [0.0155807  0.20662983 0.31238781 0.17820686 0.02014447 0.15744761\n",
            " 0.66609955 0.62958542 0.93568364 0.79816829 0.56775612 0.13755635\n",
            " 0.56407182 0.06159506 0.4308849  0.39025863 0.42781381 0.27982592\n",
            " 0.68583045 0.84094447 0.76851699 0.6277521  0.5383448  0.03108418\n",
            " 0.722934   0.54498294 0.27074105 0.32784204 0.93560679 0.62436225\n",
            " 0.47591243 0.62092174 0.41374232 0.47018227 0.29030926 0.4398533\n",
            " 0.68559223 0.03994193 0.79502741 0.28297954 0.68255979 0.64272531\n",
            " 0.65262805 0.60812892 0.95910184 0.50834416 0.73231912 0.70544933\n",
            " 0.23626758 0.28330584]\n",
            "angle with constraint is: [-38.753544   -23.46961392 -15.00897502 -25.74345148 -38.38844228\n",
            " -27.40419131  13.28796429  10.36683332  34.85469115  23.85346331\n",
            "   5.42048935 -28.9954922    5.12574551 -35.07239513  -5.52920821\n",
            "  -8.77930968  -5.77489525 -17.61392653  14.86643581  27.27555738\n",
            "  21.48135941  10.22016766   3.06758395 -37.5132656   17.8347199\n",
            "   3.59863517 -18.34071595 -13.77263689  34.84854292   9.94897961\n",
            "  -1.92700523   9.67373918  -6.900614    -2.38541814 -16.77525946\n",
            "  -4.81173595  14.8473786  -36.80464599  23.60219258 -17.36163673\n",
            "  14.60478347  11.41802517  12.21024393   8.6503133   36.72814705\n",
            "   0.66753302  18.58552924  16.4359465  -21.09859382 -17.33553287]\n",
            "shape of sample before is: (50, 28, 28)\n",
            "len(sample.shape) 3\n",
            "angle is: [0.4240171  0.27769793 0.3667431  0.39096061 0.60386456 0.21989004\n",
            " 0.80429187 0.43753636 0.70624411 0.08144248 0.46996539 0.02821953\n",
            " 0.67590999 0.34371008 0.94925281 0.32412421 0.5638059  0.25738758\n",
            " 0.62011263 0.46704235 0.37062826 0.20368935 0.11152134 0.11987913\n",
            " 0.99904002 0.41231073 0.00192971 0.95292879 0.01997992 0.41858613\n",
            " 0.71747759 0.91459924 0.71288629 0.46362575 0.97444204 0.03931938\n",
            " 0.9868922  0.84939155 0.92893002 0.25477242 0.14245807 0.66331528\n",
            " 0.51585944 0.52316796 0.92461918 0.62008091 0.31106384 0.40006656\n",
            " 0.13349584 0.19231404]\n",
            "angle with constraint is: [ -6.07863215 -17.78416556 -10.66055209  -8.72315089   8.30916488\n",
            " -22.40879658  24.34334927  -4.99709146  16.49952893 -33.4846015\n",
            "  -2.40276847 -37.74243743  14.07279935 -12.50319384  35.94022513\n",
            " -14.07006283   5.10447184 -19.40899394   9.60901032  -2.63661199\n",
            " -10.34973908 -23.70485207 -31.07829248 -30.40966928  39.9232014\n",
            "  -7.01514185 -39.84562337  36.23430325 -38.40160606  -6.51310996\n",
            "  17.39820688  33.16793955  17.03090331  -2.90993961  37.95536312\n",
            " -36.85444936  38.9513762   27.95132414  34.31440137 -19.61820607\n",
            " -28.60335422  13.06522235   1.26875504   1.85343686  33.96953428\n",
            "   9.60647253 -15.11489319  -7.99467549 -29.32033319 -24.61487678]\n",
            "shape of sample before is: (50, 28, 28)\n",
            "len(sample.shape) 3\n",
            "angle is: [0.14335007 0.81029134 0.70487347 0.53034502 0.37436783 0.66849429\n",
            " 0.81290535 0.88123322 0.54701623 0.81988512 0.51130595 0.47453009\n",
            " 0.86543186 0.38637394 0.39591268 0.30491135 0.51870173 0.54485003\n",
            " 0.66046115 0.43050231 0.21783729 0.86684206 0.34600087 0.92294342\n",
            " 0.20735333 0.56005748 0.53661509 0.82864785 0.13885139 0.90993717\n",
            " 0.53142817 0.58610938 0.51016629 0.03602491 0.49709066 0.26354966\n",
            " 0.34268818 0.6491016  0.49769713 0.09321821 0.07304127 0.1856577\n",
            " 0.19088515 0.60830076 0.17781446 0.88171942 0.20976066 0.09113145\n",
            " 0.87574602 0.29532758]\n",
            "angle with constraint is: [-28.53199438  24.8233073   16.38987744   2.42760141 -10.05057331\n",
            "  13.47954323  25.03242782  30.49865725   3.76129826  25.59080975\n",
            "   0.90447627  -2.03759286  29.23454845  -9.0900851   -8.32698568\n",
            " -15.60709238   1.49613826   3.5880027   12.83689162  -5.55981519\n",
            " -22.57301665  29.34736499 -12.31993062  33.83547359 -23.41173336\n",
            "   4.8045981    2.92920748  26.29182783 -28.89188906  32.79497383\n",
            "   2.51425377   6.88875071   0.81330346 -37.11800745  -0.23274706\n",
            " -18.91602699 -12.58494557  11.92812793  -0.18422964 -32.54254299\n",
            " -34.15669802 -25.14738435 -24.72918827   8.66406056 -25.77484288\n",
            "  30.53755386 -23.21914715 -32.70948437  30.05968131 -16.37379391]\n",
            "shape of sample before is: (50, 28, 28)\n",
            "len(sample.shape) 3\n",
            "angle is: [0.42542263 0.95902638 0.94436922 0.71491689 0.06893895 0.59334013\n",
            " 0.98907794 0.94691623 0.10600249 0.3959673  0.31553675 0.12972811\n",
            " 0.69479831 0.27384836 0.3448658  0.09035888 0.49796756 0.15816786\n",
            " 0.43209042 0.14334222 0.95384989 0.14498253 0.52188715 0.19697983\n",
            " 0.0763618  0.20230862 0.05477411 0.13939738 0.49348416 0.65181552\n",
            " 0.08733982 0.44101862 0.58124702 0.23422568 0.37207841 0.07183487\n",
            " 0.22013108 0.46675293 0.99044218 0.99626506 0.97962168 0.42308639\n",
            " 0.08068038 0.32357344 0.23771438 0.01412657 0.09523361 0.45319194\n",
            " 0.33966246 0.18035372]\n",
            "angle with constraint is: [ -5.96618961  36.72211072  35.54953753  17.19335114 -34.48488386\n",
            "   7.46721003  39.1262348   35.75329827 -31.5198006   -8.32261575\n",
            " -14.75706033 -29.62175145  15.5838649  -18.09213085 -12.41073575\n",
            " -32.77128986  -0.1625953  -27.34657091  -5.43276611 -28.53262223\n",
            "  36.3079912  -28.40139734   1.75097231 -24.24161397 -33.89105572\n",
            " -23.81531049 -35.61807141 -28.84820935  -0.52126738  12.14524168\n",
            " -33.01281479  -4.71851009   6.49976183 -21.2619459  -10.23372708\n",
            " -34.25321042 -22.38951358  -2.65976593  39.23537431  39.70120504\n",
            "  38.36973449  -6.1530891  -33.54556973 -14.11412502 -20.98284997\n",
            " -38.86987401 -32.38131118  -3.7446452  -12.8270029  -25.57170227]\n",
            "Accuracy after rotation augmentation constrained by  80  is  0.6457\n",
            "shape of sample before is: (50, 28, 28)\n",
            "len(sample.shape) 3\n",
            "angle is: [0.71609997 0.3571156  0.85186786 0.24097716 0.53839349 0.18413922\n",
            " 0.49530062 0.15246651 0.16157862 0.61222338 0.26378604 0.17236723\n",
            " 0.92976825 0.04300325 0.56514811 0.54826384 0.25060887 0.45277175\n",
            " 0.08773778 0.72127015 0.22169715 0.19338536 0.31487848 0.90236992\n",
            " 0.79646665 0.94689229 0.65196235 0.66292151 0.480031   0.90518632\n",
            " 0.51087715 0.35506007 0.64037501 0.54613949 0.12401982 0.39272541\n",
            " 0.31332541 0.84683378 0.37884256 0.82155523 0.44238959 0.75350056\n",
            " 0.13528193 0.92465022 0.48055989 0.25979825 0.24148961 0.26507729\n",
            " 0.36672417 0.71751953]\n",
            "angle with constraint is: [ 19.44899736 -12.85959637  31.66810702 -23.31205558   3.45541411\n",
            " -28.42747046  -0.42294453 -31.27801419 -30.45792381  10.10010393\n",
            " -21.2592562  -29.48694961  38.67914251 -41.12970743   5.86333014\n",
            "   4.34374576 -22.4452013   -4.25054294 -37.10359952  19.91431313\n",
            " -25.04725665 -27.59531762 -16.66093696  36.21329282  26.68199835\n",
            "  40.2203062   13.67661114  14.66293599  -1.79721005  36.4667691\n",
            "   0.97894343 -13.04459363  12.63375089   4.15255441 -33.83821662\n",
            "  -9.65471275 -16.800713    31.21503975 -10.90416987  28.93997094\n",
            "  -5.18493655  22.81505071 -32.82462643  38.21851977  -1.74960983\n",
            " -21.61815789 -23.26593543 -21.14304403 -11.99482444  19.57675794]\n",
            "shape of sample before is: (50, 28, 28)\n",
            "len(sample.shape) 3\n",
            "angle is: [0.94960304 0.66903743 0.54716627 0.44859781 0.82819447 0.8496572\n",
            " 0.29303767 0.95342025 0.39511536 0.80007807 0.96681988 0.7036581\n",
            " 0.16155073 0.58613696 0.11877712 0.78914204 0.28131517 0.69521482\n",
            " 0.91008967 0.18100985 0.39285784 0.64711879 0.41965859 0.17481894\n",
            " 0.02907161 0.40659814 0.64920903 0.57398421 0.15624124 0.45069344\n",
            " 0.36947105 0.2742024  0.72927124 0.30965203 0.54014195 0.92322354\n",
            " 0.53927598 0.61702291 0.07324599 0.17813414 0.1009512  0.76481295\n",
            " 0.83592108 0.18645529 0.21927175 0.32320729 0.59107762 0.62179619\n",
            " 0.68675396 0.90519276]\n",
            "angle with constraint is: [ 40.46427386  15.21336871   4.24496438  -4.62619728  29.53750203\n",
            "  31.46914822 -18.6266093   40.80782238  -9.43961731  27.00702623\n",
            "  42.01378903  18.32922908 -30.46043462   7.75232597 -34.31005892\n",
            "  26.02278359 -19.68163435  17.56933408  36.90807067 -28.70911344\n",
            "  -9.64279453  13.24069093  -7.23072665 -29.26629525 -42.38355472\n",
            "  -8.40616707  13.42881239   6.65857873 -30.93828842  -4.43759005\n",
            " -11.74760584 -20.32178379  20.63441195 -17.1313173    3.61277571\n",
            "  38.09011817   3.5348384   10.53206191 -38.40786124 -28.96792706\n",
            " -35.91439206  23.83316535  30.23289728 -28.21902361 -25.26554242\n",
            " -15.91134395   8.19698553  10.96165744  16.80785627  36.46734806]\n",
            "shape of sample before is: (50, 28, 28)\n",
            "len(sample.shape) 3\n",
            "angle is: [0.29504014 0.65875899 0.55972285 0.30583724 0.90741519 0.09548341\n",
            " 0.71200103 0.72787371 0.91532653 0.51858059 0.32162234 0.82774067\n",
            " 0.77081028 0.50031561 0.76785738 0.2678756  0.58950633 0.86518345\n",
            " 0.3179845  0.48354998 0.95104485 0.79821184 0.88703902 0.38524706\n",
            " 0.99650526 0.1525656  0.51877058 0.47927338 0.79843219 0.90861777\n",
            " 0.73113938 0.62681624 0.42742919 0.51032592 0.50930031 0.02036847\n",
            " 0.5030458  0.8559708  0.70927401 0.79570862 0.39048499 0.52897324\n",
            " 0.03348357 0.38299794 0.47441604 0.2552089  0.03124098 0.69040811\n",
            " 0.43508775 0.41567819]\n",
            "angle with constraint is: [-1.84463874e+01  1.42883090e+01  5.37505612e+00 -1.74746484e+01\n",
            "  3.66673668e+01 -3.64064929e+01  1.90800924e+01  2.05086342e+01\n",
            "  3.73793875e+01  1.67225331e+00 -1.60539896e+01  2.94966603e+01\n",
            "  2.43729254e+01  2.84052978e-02  2.41071638e+01 -2.08911958e+01\n",
            "  8.05556974e+00  3.28665109e+01 -1.63813946e+01 -1.48050158e+00\n",
            "  4.05940369e+01  2.68390658e+01  3.48335118e+01 -1.03277645e+01\n",
            "  4.46854734e+01 -3.12690956e+01  1.68935249e+00 -1.86539559e+00\n",
            "  2.68588972e+01  3.67755995e+01  2.08025439e+01  1.14134613e+01\n",
            " -6.53137282e+00  9.29332537e-01  8.37028190e-01 -4.31668374e+01\n",
            "  2.74122434e-01  3.20373720e+01  1.88346610e+01  2.66137760e+01\n",
            " -9.85635092e+00  2.60759132e+00 -4.19864788e+01 -1.05301852e+01\n",
            " -2.30255596e+00 -2.20311990e+01 -4.21883119e+01  1.71367298e+01\n",
            " -5.84210242e+00 -7.58896262e+00]\n",
            "shape of sample before is: (50, 28, 28)\n",
            "len(sample.shape) 3\n",
            "angle is: [0.24998675 0.5378304  0.43802678 0.47398447 0.58087135 0.00632465\n",
            " 0.9076959  0.0710874  0.45092475 0.20737288 0.52378237 0.28023011\n",
            " 0.8600065  0.39635983 0.63875556 0.24887973 0.01940615 0.40415454\n",
            " 0.53648649 0.45954715 0.96201436 0.70683917 0.9956698  0.29506009\n",
            " 0.78905328 0.55555847 0.61176035 0.9858532  0.6539872  0.89881689\n",
            " 0.72575023 0.12738612 0.69942371 0.48431559 0.91879799 0.80683445\n",
            " 0.10413469 0.13391564 0.069611   0.49324487 0.08077176 0.72367834\n",
            " 0.55235858 0.83588502 0.27979579 0.51914078 0.11747969 0.88461\n",
            " 0.17500496 0.10236225]\n",
            "angle with constraint is: [-22.50119214   3.40473591  -5.57758969  -2.34139743   7.27842136\n",
            " -44.43078175  36.69263132 -38.60213427  -4.41677274 -26.33644123\n",
            "   2.14041324 -19.77929021  32.40058483  -9.32761494  12.48800002\n",
            " -22.60082447 -43.25344646  -8.62609179   3.28378406  -3.64075639\n",
            "  41.58129274  18.61552565  44.61028206 -18.44459187  26.01479516\n",
            "   5.00026208  10.0584319   43.72678804  13.85884798  35.89352031\n",
            "  20.31752112 -33.53524904  17.94813393  -1.41159702  37.69181937\n",
            "  27.61510025 -35.62787812 -32.94759207 -38.73500984  -0.60796127\n",
            " -37.73054167  20.13105029   4.71227233  30.22965158 -19.81837902\n",
            "   1.72267057 -34.42682827  34.61490024 -29.24955339 -35.78739738]\n",
            "shape of sample before is: (50, 28, 28)\n",
            "len(sample.shape) 3\n",
            "angle is: [0.2050506  0.80623149 0.10581453 0.61442749 0.7461813  0.75108116\n",
            " 0.19006089 0.061624   0.44880638 0.20248535 0.69927081 0.3566928\n",
            " 0.44935394 0.11348493 0.56755029 0.18552419 0.67898566 0.07116882\n",
            " 0.97589459 0.68452698 0.18172957 0.01409465 0.33446289 0.15281326\n",
            " 0.21841133 0.87275026 0.60320466 0.17645765 0.5566594  0.25578065\n",
            " 0.97620086 0.03275723 0.73231842 0.77299703 0.06716276 0.17186936\n",
            " 0.38430666 0.86815483 0.53699994 0.65530685 0.78301284 0.82812279\n",
            " 0.47628454 0.50879314 0.71800586 0.26334236 0.85448974 0.02078682\n",
            " 0.1957716  0.80019994]\n",
            "angle with constraint is: [-26.54544613  27.56083399 -35.47669251  10.29847454  22.15631706\n",
            "  22.59730444 -27.89452021 -39.45384015  -4.60742546 -26.77631893\n",
            "  17.93437281 -12.89764803  -4.55814531 -34.78635602   6.07952579\n",
            " -28.30282293  16.10870948 -38.59480597  42.83051331  16.60742807\n",
            " -28.6443389  -43.73148191 -14.8983397  -31.24680624 -25.34298002\n",
            "  33.54752326   9.2884194  -29.11881123   5.09934606 -21.97974119\n",
            "  42.85807779 -42.05184928  20.908658    24.56973236 -38.95535124\n",
            " -29.53175722 -10.41240068  33.13393439   3.32999446  13.9776165\n",
            "  25.47115519  29.53105095  -2.13439112   0.79138249  19.62052714\n",
            " -21.29918771  31.90407627 -43.1291858  -27.3805558   27.01799487]\n",
            "Accuracy after rotation augmentation constrained by  90  is  0.6505\n"
          ]
        }
      ]
    },
    {
      "cell_type": "code",
      "source": [
        "Accuracy after rotation augmentation constrained by  90  is  0.6467"
      ],
      "metadata": {
        "id": "ZPOH1A3RnqDr"
      },
      "execution_count": null,
      "outputs": []
    },
    {
      "cell_type": "markdown",
      "source": [
        "Let us see the best value for angle constraint: (Ideally this should be done on validation set, not test set)"
      ],
      "metadata": {
        "id": "8Le-7VJBoP8K"
      }
    },
    {
      "cell_type": "code",
      "source": [
        "fig = plt.figure()\n",
        "ax = fig.add_axes([0.1, 0.1, 0.8, 0.8]) # main axes\n",
        "# plot the variation of accuracy\n",
        "ax.plot(angleconstraints, accuracies)\n",
        "ax.set_xlabel('angle')\n",
        "ax.set_ylabel('accuracy')\n",
        "# plot the maximum accuracy\n",
        "maxind = np.argmax(accuracies)\n",
        "plt.scatter(angleconstraints[maxind], accuracies[maxind], c='red')"
      ],
      "metadata": {
        "id": "xG__xE-FoQOg",
        "colab": {
          "base_uri": "https://localhost:8080/",
          "height": 309
        },
        "outputId": "610daa0c-0417-4b92-873a-174e70c169a0"
      },
      "execution_count": 86,
      "outputs": [
        {
          "output_type": "execute_result",
          "data": {
            "text/plain": [
              "<matplotlib.collections.PathCollection at 0x7f8ef7b47b50>"
            ]
          },
          "metadata": {},
          "execution_count": 86
        },
        {
          "output_type": "display_data",
          "data": {
            "text/plain": [
              "<Figure size 432x288 with 1 Axes>"
            ],
            "image/png": "[encoded data removed]"
          },
          "metadata": {
            "needs_background": "light"
          }
        }
      ]
    },
    {
      "cell_type": "markdown",
      "source": [
        "Let us do a grid search to find the best shear constraint."
      ],
      "metadata": {
        "id": "Vfy-LEb-qdUd"
      }
    },
    {
      "cell_type": "code",
      "source": [
        "shearconstraints = [0, 0.2,0.4,0.6,0.8,1.0,1.2,1.4,1.6,1.8,2.0] # the values we want to test\n",
        "accuracies = np.zeros(len(shearconstraints), dtype=np.float) # we will save the values here\n",
        "\n",
        "for ii in range(len(shearconstraints)):\n",
        "  # create the augmented dataset\n",
        "  augdata = train_X # we include the original images also in the augmented dataset\n",
        "  auglabel = train_y\n",
        "  for jj in range(naugmentations):\n",
        "    augdata = np.concatenate((augdata, augShear(train_X, shearconstraints[ii]))) # concatenate the augmented data to the set\n",
        "    auglabel = np.concatenate((auglabel, train_y))  # the labels don't change when we augment\n",
        "\n",
        "  # check the test accuracy\n",
        "  testpred = NN(augdata, auglabel, test_X)\n",
        "  accuracies[ii] = Accuracy(test_y, testpred)\n",
        "  print('Accuracy after shear augmentation constrained by ',shearconstraints[ii], ' is ', accuracies[ii], flush=True)"
      ],
      "metadata": {
        "id": "22m9xPrBoSDi",
        "colab": {
          "base_uri": "https://localhost:8080/"
        },
        "outputId": "8ce7130a-74bc-497b-945e-7fe23b3b967d"
      },
      "execution_count": 87,
      "outputs": [
        {
          "output_type": "stream",
          "name": "stderr",
          "text": [
            "/usr/local/lib/python3.7/dist-packages/ipykernel_launcher.py:2: DeprecationWarning: `np.float` is a deprecated alias for the builtin `float`. To silence this warning, use `float` by itself. Doing this will not modify any behavior and is safe. If you specifically wanted the numpy scalar type, use `np.float64` here.\n",
            "Deprecated in NumPy 1.20; for more details and guidance: https://numpy.org/devdocs/release/1.20.0-notes.html#deprecations\n",
            "  \n"
          ]
        },
        {
          "output_type": "stream",
          "name": "stdout",
          "text": [
            "Accuracy after shear augmentation constrained by  0  is  0.6472\n",
            "Accuracy after shear augmentation constrained by  0.2  is  0.6237\n",
            "Accuracy after shear augmentation constrained by  0.4  is  0.6282\n",
            "Accuracy after shear augmentation constrained by  0.6  is  0.6405\n",
            "Accuracy after shear augmentation constrained by  0.8  is  0.6549\n",
            "Accuracy after shear augmentation constrained by  1.0  is  0.6429\n",
            "Accuracy after shear augmentation constrained by  1.2  is  0.6208\n",
            "Accuracy after shear augmentation constrained by  1.4  is  0.6303\n",
            "Accuracy after shear augmentation constrained by  1.6  is  0.6398\n",
            "Accuracy after shear augmentation constrained by  1.8  is  0.5969\n",
            "Accuracy after shear augmentation constrained by  2.0  is  0.5887\n"
          ]
        }
      ]
    },
    {
      "cell_type": "code",
      "source": [
        "fig = plt.figure()\n",
        "ax = fig.add_axes([0.1, 0.1, 0.8, 0.8]) # main axes\n",
        "# plot the variation of accuracy\n",
        "ax.plot(shearconstraints, accuracies)\n",
        "ax.set_xlabel('angle')\n",
        "ax.set_ylabel('accuracy')\n",
        "# plot the maximum accuracy\n",
        "maxind = np.argmax(accuracies)\n",
        "plt.scatter(shearconstraints[maxind], accuracies[maxind], c='red')"
      ],
      "metadata": {
        "id": "kBBum9xPqglf",
        "colab": {
          "base_uri": "https://localhost:8080/",
          "height": 309
        },
        "outputId": "ea5614c6-8184-461f-8a68-9f02da8aac89"
      },
      "execution_count": 89,
      "outputs": [
        {
          "output_type": "execute_result",
          "data": {
            "text/plain": [
              "<matplotlib.collections.PathCollection at 0x7f8ef7acf1d0>"
            ]
          },
          "metadata": {},
          "execution_count": 89
        },
        {
          "output_type": "display_data",
          "data": {
            "text/plain": [
              "<Figure size 432x288 with 1 Axes>"
            ],
            "image/png": "[encoded data removed]"
          },
          "metadata": {
            "needs_background": "light"
          }
        }
      ]
    },
    {
      "cell_type": "markdown",
      "source": [
        "We can do multiple augmentations at the same time. Here is a function to do both shear and rotation to the sample. In this case, we will have two hyperparameters."
      ],
      "metadata": {
        "id": "88Bu9veestqd"
      }
    },
    {
      "cell_type": "code",
      "source": [
        "def augRotateShear(sample, angleconstraint, shearconstraint):\n",
        "  if len(sample.shape)==2:\n",
        "    sample = np.expand_dims(sample, 0)  # make sure the sample is 3 dimensional\n",
        "  amt = rng.random(len(sample)) # generate random numbers for shear\n",
        "  amt = (amt-0.5)*shearconstraint # make the random shear constrained\n",
        "  angle = rng.random(len(sample)) # generate random numbers for angles\n",
        "  angle = (angle-0.5)*angleconstraint # make the random angle constrained\n",
        "  nsample = sample.copy() # preallocate the augmented array to make it faster\n",
        "  for ii in range(len(sample)):\n",
        "    nsample[ii] = rotate(shear(sample[ii], amt[ii]), angle[ii]) # first apply shear, then rotate\n",
        "  return np.squeeze(nsample) # take care if the input had only one sample."
      ],
      "metadata": {
        "id": "T9CflCiur-lr"
      },
      "execution_count": 90,
      "outputs": []
    },
    {
      "cell_type": "markdown",
      "source": [
        "Since we have two hyperparameters, we have to do the grid search on a 2 dimensional matrix. We can use our previous experience to inform where to search for the best hyperparameters. "
      ],
      "metadata": {
        "id": "-EdNnol9s4NZ"
      }
    },
    {
      "cell_type": "code",
      "source": [
        "shearconstraints = [0, 0.2,0.4,0.6,0.8,1.0,1.2,1.4,1.6] # the values we want to test\n",
        "angleconstraints = [0,10,20,30,40,50,60] # the values we want to test\n",
        "hyp = cartesian((shearconstraints, angleconstraints)) # cartesian product of both\n",
        "\n",
        "accuracies = np.zeros(len(hyp), dtype=np.float) # we will save the values here\n",
        "\n",
        "for ii in range(len(hyp)):\n",
        "  # create the augmented dataset\n",
        "  augdata = train_X # we include the original images also in the augmented dataset\n",
        "  auglabel = train_y\n",
        "  for jj in range(naugmentations):\n",
        "    augdata = np.concatenate((augdata, augRotateShear(train_X, hyp[ii][0], hyp[ii][1]))) # concatenate the augmented data to the set\n",
        "    auglabel = np.concatenate((auglabel, train_y))  # the labels don't change when we augment\n",
        "\n",
        "  # check the test accuracy\n",
        "  testpred = NN(augdata, auglabel, test_X)\n",
        "  accuracies[ii] = Accuracy(test_y, testpred)\n",
        "  print('Accuracy after augmentation shear:',hyp[ii][0], 'angle:',hyp[ii][1], ' is ', accuracies[ii], flush=True)"
      ],
      "metadata": {
        "id": "UfmRisY-swyX",
        "colab": {
          "base_uri": "https://localhost:8080/"
        },
        "outputId": "616ec1db-0a4d-487f-a2b6-3d786d087b56"
      },
      "execution_count": 91,
      "outputs": [
        {
          "output_type": "stream",
          "name": "stderr",
          "text": [
            "/usr/local/lib/python3.7/dist-packages/ipykernel_launcher.py:5: DeprecationWarning: `np.float` is a deprecated alias for the builtin `float`. To silence this warning, use `float` by itself. Doing this will not modify any behavior and is safe. If you specifically wanted the numpy scalar type, use `np.float64` here.\n",
            "Deprecated in NumPy 1.20; for more details and guidance: https://numpy.org/devdocs/release/1.20.0-notes.html#deprecations\n",
            "  \"\"\"\n"
          ]
        },
        {
          "output_type": "stream",
          "name": "stdout",
          "text": [
            "Accuracy after augmentation shear: 0.0 angle: 0.0  is  0.6332\n",
            "Accuracy after augmentation shear: 0.0 angle: 10.0  is  0.5814\n",
            "Accuracy after augmentation shear: 0.0 angle: 20.0  is  0.5975\n",
            "Accuracy after augmentation shear: 0.0 angle: 30.0  is  0.5948\n",
            "Accuracy after augmentation shear: 0.0 angle: 40.0  is  0.5904\n",
            "Accuracy after augmentation shear: 0.0 angle: 50.0  is  0.629\n",
            "Accuracy after augmentation shear: 0.0 angle: 60.0  is  0.6175\n",
            "Accuracy after augmentation shear: 0.2 angle: 0.0  is  0.6334\n",
            "Accuracy after augmentation shear: 0.2 angle: 10.0  is  0.5875\n",
            "Accuracy after augmentation shear: 0.2 angle: 20.0  is  0.6262\n",
            "Accuracy after augmentation shear: 0.2 angle: 30.0  is  0.6056\n",
            "Accuracy after augmentation shear: 0.2 angle: 40.0  is  0.59\n",
            "Accuracy after augmentation shear: 0.2 angle: 50.0  is  0.5958\n",
            "Accuracy after augmentation shear: 0.2 angle: 60.0  is  0.586\n",
            "Accuracy after augmentation shear: 0.4 angle: 0.0  is  0.6335\n",
            "Accuracy after augmentation shear: 0.4 angle: 10.0  is  0.5908\n",
            "Accuracy after augmentation shear: 0.4 angle: 20.0  is  0.5844\n",
            "Accuracy after augmentation shear: 0.4 angle: 30.0  is  0.5661\n",
            "Accuracy after augmentation shear: 0.4 angle: 40.0  is  0.6058\n",
            "Accuracy after augmentation shear: 0.4 angle: 50.0  is  0.6197\n",
            "Accuracy after augmentation shear: 0.4 angle: 60.0  is  0.5849\n",
            "Accuracy after augmentation shear: 0.6 angle: 0.0  is  0.6338\n",
            "Accuracy after augmentation shear: 0.6 angle: 10.0  is  0.5745\n",
            "Accuracy after augmentation shear: 0.6 angle: 20.0  is  0.576\n",
            "Accuracy after augmentation shear: 0.6 angle: 30.0  is  0.5854\n",
            "Accuracy after augmentation shear: 0.6 angle: 40.0  is  0.5923\n",
            "Accuracy after augmentation shear: 0.6 angle: 50.0  is  0.6055\n",
            "Accuracy after augmentation shear: 0.6 angle: 60.0  is  0.6111\n",
            "Accuracy after augmentation shear: 0.8 angle: 0.0  is  0.6327\n",
            "Accuracy after augmentation shear: 0.8 angle: 10.0  is  0.5833\n",
            "Accuracy after augmentation shear: 0.8 angle: 20.0  is  0.6121\n",
            "Accuracy after augmentation shear: 0.8 angle: 30.0  is  0.6033\n",
            "Accuracy after augmentation shear: 0.8 angle: 40.0  is  0.6251\n",
            "Accuracy after augmentation shear: 0.8 angle: 50.0  is  0.6065\n",
            "Accuracy after augmentation shear: 0.8 angle: 60.0  is  0.6154\n",
            "Accuracy after augmentation shear: 1.0 angle: 0.0  is  0.6346\n",
            "Accuracy after augmentation shear: 1.0 angle: 10.0  is  0.6135\n",
            "Accuracy after augmentation shear: 1.0 angle: 20.0  is  0.5903\n",
            "Accuracy after augmentation shear: 1.0 angle: 30.0  is  0.5888\n",
            "Accuracy after augmentation shear: 1.0 angle: 40.0  is  0.5893\n",
            "Accuracy after augmentation shear: 1.0 angle: 50.0  is  0.6053\n",
            "Accuracy after augmentation shear: 1.0 angle: 60.0  is  0.5956\n",
            "Accuracy after augmentation shear: 1.2 angle: 0.0  is  0.6336\n",
            "Accuracy after augmentation shear: 1.2 angle: 10.0  is  0.6015\n",
            "Accuracy after augmentation shear: 1.2 angle: 20.0  is  0.6001\n",
            "Accuracy after augmentation shear: 1.2 angle: 30.0  is  0.582\n",
            "Accuracy after augmentation shear: 1.2 angle: 40.0  is  0.6075\n",
            "Accuracy after augmentation shear: 1.2 angle: 50.0  is  0.5858\n",
            "Accuracy after augmentation shear: 1.2 angle: 60.0  is  0.6161\n",
            "Accuracy after augmentation shear: 1.4 angle: 0.0  is  0.634\n",
            "Accuracy after augmentation shear: 1.4 angle: 10.0  is  0.6296\n",
            "Accuracy after augmentation shear: 1.4 angle: 20.0  is  0.5957\n",
            "Accuracy after augmentation shear: 1.4 angle: 30.0  is  0.6104\n",
            "Accuracy after augmentation shear: 1.4 angle: 40.0  is  0.5904\n",
            "Accuracy after augmentation shear: 1.4 angle: 50.0  is  0.5834\n",
            "Accuracy after augmentation shear: 1.4 angle: 60.0  is  0.6188\n",
            "Accuracy after augmentation shear: 1.6 angle: 0.0  is  0.6342\n",
            "Accuracy after augmentation shear: 1.6 angle: 10.0  is  0.6067\n",
            "Accuracy after augmentation shear: 1.6 angle: 20.0  is  0.6089\n",
            "Accuracy after augmentation shear: 1.6 angle: 30.0  is  0.5939\n",
            "Accuracy after augmentation shear: 1.6 angle: 40.0  is  0.578\n",
            "Accuracy after augmentation shear: 1.6 angle: 50.0  is  0.6175\n",
            "Accuracy after augmentation shear: 1.6 angle: 60.0  is  0.6031\n"
          ]
        }
      ]
    },
    {
      "cell_type": "markdown",
      "source": [
        "Let us plot it two dimensionally to see which is the best value for the hyperparameters:"
      ],
      "metadata": {
        "id": "twI4Tk5etBTE"
      }
    },
    {
      "cell_type": "code",
      "source": [
        "fig = plt.figure()\n",
        "ax = fig.add_axes([0.1, 0.1, 0.8, 0.8]) # main axes\n",
        "im = ax.imshow(accuracies.reshape((len(shearconstraints), len(angleconstraints))), cmap='inferno') \n",
        "ax.set_xlabel('angle')\n",
        "ax.set_ylabel('shear')\n",
        "ax.set_xticks(np.arange(len(angleconstraints)));\n",
        "ax.set_xticklabels(angleconstraints);\n",
        "ax.set_yticks(np.arange(len(shearconstraints)));\n",
        "ax.set_yticklabels(shearconstraints);\n",
        "plt.colorbar(im)"
      ],
      "metadata": {
        "id": "CS8X6jLAs7hW",
        "colab": {
          "base_uri": "https://localhost:8080/",
          "height": 309
        },
        "outputId": "aac510d1-9495-421b-a269-9c6a9610dc84"
      },
      "execution_count": 92,
      "outputs": [
        {
          "output_type": "execute_result",
          "data": {
            "text/plain": [
              "<matplotlib.colorbar.Colorbar at 0x7f8ef7a02a10>"
            ]
          },
          "metadata": {},
          "execution_count": 92
        },
        {
          "output_type": "display_data",
          "data": {
            "text/plain": [
              "<Figure size 432x288 with 2 Axes>"
            ],
            "image/png": "[encoded data removed]"
          },
          "metadata": {
            "needs_background": "light"
          }
        }
      ]
    },
    {
      "cell_type": "markdown",
      "source": [
        "It seems that rotation and shear don't mix! The best accuracy is when rotation is zero."
      ],
      "metadata": {
        "id": "JRnymka4vnla"
      }
    },
    {
      "cell_type": "markdown",
      "source": [
        "## Questions\n",
        "Try these questions for better understanding. You may not be able to solve all of them. \n",
        "1. What is the best value for angle constraint and shear constraint you got? How much did the accuracy improve as compared to not using augmentations?\n",
        "2. Can you increase the accuracy by increasing the number of augmentations from each sample?\n",
        "3. Try implementing a few augmentations of your own and experimenting with them. A good reference is <a href=https://www.analyticsvidhya.com/blog/2019/12/image-augmentation-deep-learning-pytorch/>here. </a>\n",
        "4. Try combining various augmentations. What is the highest accuracy you can get? What is the smallest training dataset you can take and still get accuracy above 50%?\n",
        "\n",
        "Whenever you do any experiment, a good practice is to vary the hyperparameters gradually and create a graph of your results, like we did for gridsearch. "
      ],
      "metadata": {
        "id": "cU9AxYWJvs_P"
      }
    }
  ]
}